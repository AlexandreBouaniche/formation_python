{
 "metadata": {
  "name": "",
  "signature": "sha256:946240eb32550f7bb106bf1fb0ab54a7782e6702d82124f7daa69f57baea64f9"
 },
 "nbformat": 3,
 "nbformat_minor": 0,
 "worksheets": [
  {
   "cells": [
    {
     "cell_type": "markdown",
     "metadata": {},
     "source": [
      "Les bases\n",
      "========\n",
      "\n",
      "Historique\n",
      "----------\n",
      "- 1989\u00a0: CWI\u00a0: **Guido van Rossum**\n",
      "- 1991\u00a0: premiere version publique\n",
      "- 1995\u00a0: CNRI\n",
      "- 1999\u00a0: Computer Programming for Everybody (CNRI + DARPA) objectif\u00a0: python pour l\u2019**enseignement** de la programation\n",
      "- 2001\u00a0: Python software fundation\n",
      "- 2008\u00a0: version 3\n",
      "- 2013\u00a0: langage enseign\u00e9 en pr\u00e9pa\n",
      "- 2018\u00a0: 4eme langage le plus populaire (apr\u00e8s Java, C, C++)\n",
      "- 2020\u00a0: mort de python 2.x\n",
      "\n",
      "La force de Python (scipy)\n",
      "------------------\n",
      "\n",
      "- **Batteries included**\n",
      "- **Easy to learn**\n",
      "- **Easy communication**\n",
      "- **Efficient code**\n",
      "- **Universal**\n",
      "\n",
      "installation\n",
      "------------\n",
      "- Windows\u00a0: anaconda + conda + pip\n",
      "- linux\u00a0: d\u00e9j\u00e0 install\u00e9 + apt + pip --user\n",
      "- mac\u00a0: homebrew + brew python3 + pip --user\n",
      "\n",
      "interface\n",
      "---------\n",
      "vim+terminal / IDLE / spyder / notebook\n",
      "\n",
      "Helloworld\n",
      "----------"
     ]
    },
    {
     "cell_type": "code",
     "collapsed": false,
     "input": [
      "print(\"Hello World !\")"
     ],
     "language": "python",
     "metadata": {},
     "outputs": [
      {
       "output_type": "stream",
       "stream": "stdout",
       "text": [
        "Hello World !\n"
       ]
      }
     ],
     "prompt_number": 1
    },
    {
     "cell_type": "code",
     "collapsed": false,
     "input": [
      "print(2 + 3 * 9 / 6)"
     ],
     "language": "python",
     "metadata": {},
     "outputs": [
      {
       "output_type": "stream",
       "stream": "stdout",
       "text": [
        "6.5\n"
       ]
      }
     ],
     "prompt_number": 2
    },
    {
     "cell_type": "markdown",
     "metadata": {},
     "source": [
      "c\u2019est aussi simple que ca\u00a0!\n",
      "\n",
      "Syntaxe (cheatsheet)\n",
      "--------------------\n",
      "- Les variables\u00a0:\n",
      "  - noms\n",
      "    - commence par une lettre\n",
      "    - casse importante\n",
      "    - pas de mots clefs\n",
      "    - pas de symboles op\u00e9rateurs\n",
      "    - mais les accents sont autoris\u00e9s (\u00e0 \u00e9viter quand m\u00eame)\n",
      "  - typage dynamique\n",
      "    - types num\u00e9riques\n",
      "      - entiers de pr\u00e9cision infinie\n",
      "      - float de double pr\u00e9cision\n",
      "      - complex\n",
      "    - types \u00ab it\u00e9rables \u00bb\n",
      "      - tuple\n",
      "      - list\n",
      "      - set\n",
      "      - dist\n",
      "      - str\n",
      "      - frozenset\n",
      "      - bytarray\n",
      "- les operateurs  \n",
      "  ``` + - * ** / // % = < > <= >= == != () {} [] \u2018 \" @ . ```  \n",
      "- l\u2019indentation + \":\" (utiliser ```pass``` pour un bloc vide)\n",
      "- les mots clefs\u00a0:"
     ]
    },
    {
     "cell_type": "code",
     "collapsed": false,
     "input": [
      "from keyword import kwlist\n",
      "print(kwlist)"
     ],
     "language": "python",
     "metadata": {},
     "outputs": [
      {
       "output_type": "stream",
       "stream": "stdout",
       "text": [
        "['False', 'None', 'True', 'and', 'as', 'assert', 'break', 'class', 'continue', 'def', 'del', 'elif', 'else', 'except', 'finally', 'for', 'from', 'global', 'if', 'import', 'in', 'is', 'lambda', 'nonlocal', 'not', 'or', 'pass', 'raise', 'return', 'try', 'while', 'with', 'yield']\n"
       ]
      }
     ],
     "prompt_number": 3
    },
    {
     "cell_type": "markdown",
     "metadata": {},
     "source": [
      "vocabulaire\n",
      "-----------\n",
      "- mutable / immuable\n",
      "  un objet mutable peux changer contrairement \u00e0 un objet immuable    \n",
      "  les types num\u00e9riques sont \u00e9videment immuable  \n",
      "  \n",
      "  \n",
      "- exception  \n",
      "  python ne plante jamais, quoi que vous \u00e9criviez (ou presque jamais)  \n",
      "  si un probl\u00e8me apparait, python lance une exception qui arrete le programme (sauf si elle est trait\u00e9e)\n",
      "  \n",
      "  \n",
      "- shebang ``` #!/usr/bin/env python3 ```\n",
      "- encoding ``` # -*- coding: utf-8 -*- ```\n",
      "\n",
      "Aides\n",
      "-----\n",
      "- help\n",
      "- dir\n",
      "- internet\n",
      "  - docs.python.org\n",
      "  - stackoverflow\n",
      "  - reddit\n",
      "  - ...\n",
      "  \n",
      "quelques exemples\n",
      "-----------------"
     ]
    },
    {
     "cell_type": "code",
     "collapsed": false,
     "input": [
      "def factorielle(n):                    # d\u00e9finition d'une fonction avec argument\n",
      "    if n < 2:                          # d\u00e9finition d'un test\n",
      "        return 1                       # multiples points de retours\n",
      "    else:\n",
      "        return n * factorielle(n - 1)  # r\u00e9cursivit\u00e9\n",
      "    \n",
      "res = factorielle(5)\n",
      "print(res)"
     ],
     "language": "python",
     "metadata": {},
     "outputs": [
      {
       "output_type": "stream",
       "stream": "stdout",
       "text": [
        "120\n"
       ]
      }
     ],
     "prompt_number": 4
    },
    {
     "cell_type": "code",
     "collapsed": false,
     "input": [
      "def factorielle_cinq():                # d\u00e9finition d'une fonction sans argument\n",
      "    return factorielle(5)\n",
      "\n",
      "res = factorielle_cinq()\n",
      "print(res)"
     ],
     "language": "python",
     "metadata": {},
     "outputs": [
      {
       "output_type": "stream",
       "stream": "stdout",
       "text": [
        "120\n"
       ]
      }
     ],
     "prompt_number": 5
    },
    {
     "cell_type": "code",
     "collapsed": false,
     "input": [
      "def is_prime(num):\n",
      "    if num == 1:\n",
      "        return False\n",
      "    for i in range(2, int(num ** 0.5)+1):  # d\u00e9finition d'une boucle avec range\n",
      "       if (num % i) == 0:\n",
      "          return False\n",
      "    return True\n",
      "\n",
      "print(is_prime(7))                         # enchainement de fonction\n",
      "print(is_prime(9))"
     ],
     "language": "python",
     "metadata": {},
     "outputs": [
      {
       "output_type": "stream",
       "stream": "stdout",
       "text": [
        "True\n",
        "False\n"
       ]
      }
     ],
     "prompt_number": 6
    },
    {
     "cell_type": "code",
     "collapsed": false,
     "input": [
      "def quadcube(x):\n",
      "    return x ** 2, x ** 3  # multiples valeurs retours\n",
      "\n",
      "x1, x2 = quadcube(7)\n",
      "print(x1,x2)"
     ],
     "language": "python",
     "metadata": {},
     "outputs": [
      {
       "output_type": "stream",
       "stream": "stdout",
       "text": [
        "49 343\n"
       ]
      }
     ],
     "prompt_number": 7
    },
    {
     "cell_type": "code",
     "collapsed": false,
     "input": [
      "def pythagorean_triplets(limit):\n",
      "    \"\"\" print all pythagorean triplets below a limit\n",
      "    \n",
      "    A pythagorean triplet is a triplet of integers a, b and c such that\n",
      "    a^2 + b^2 = c^2\n",
      "    \"\"\"                                       # use a docstring\n",
      "    c = 0\n",
      "    m = 2\n",
      "    while(c < limit):\n",
      "        for n in range(1, m + 1):\n",
      "            a = m * m - n * n\n",
      "            b = 2 * m * n\n",
      "            c = m * m + n * n\n",
      "            if(c > limit):\n",
      "                break                         # arret d'une boucle\n",
      "            if(a == 0 or b == 0 or c == 0):\n",
      "                break\n",
      "            print(a, b, c)\n",
      "        m = m + 1\n",
      "        \n",
      "help(pythagorean_triplets)\n",
      "pythagorean_triplets(30)"
     ],
     "language": "python",
     "metadata": {},
     "outputs": [
      {
       "output_type": "stream",
       "stream": "stdout",
       "text": [
        "Help on function pythagorean_triplets in module __main__:\n",
        "\n",
        "pythagorean_triplets(limit)\n",
        "    print all pythagorean triplets below a limit\n",
        "    \n",
        "    A pythagorean triplet is a triplet of integers a, b and c such that\n",
        "    a^2 + b^2 = c^2\n",
        "\n",
        "3 4 5\n",
        "8 6 10\n",
        "5 12 13\n",
        "15 8 17\n",
        "12 16 20\n",
        "7 24 25\n"
       ]
      }
     ],
     "prompt_number": 8
    },
    {
     "cell_type": "code",
     "collapsed": false,
     "input": [
      "def calcul_pi(err, nmax=float(\"inf\")):    # argument optionnel\n",
      "    n = 0\n",
      "    erreur = float(\"inf\")\n",
      "    \n",
      "    a_n = 1.\n",
      "    b_n = 2 ** -0.5\n",
      "    t = 0.25\n",
      "    while erreur > err and n < nmax:\n",
      "        a_np = 0.5 * (a_n + b_n)\n",
      "        b_np = (a_n * b_n) ** 0.5\n",
      "        t -= (2 ** n) * (a_n - a_np) ** 2  # soustraction sur place\n",
      "        \n",
      "        a_n, b_n = a_np, b_np              # double affectation\n",
      "        \n",
      "        erreur = abs(a_n - b_n)\n",
      "        n = n + 1\n",
      "        \n",
      "    pi = (a_n + b_n) ** 2 / (4 * t)\n",
      "    return pi, n, erreur\n",
      "\n",
      "print(calcul_pi(1e-15))\n",
      "print(calcul_pi(1e-15, 3))\n",
      "print(calcul_pi(1e-15, nmax=2))"
     ],
     "language": "python",
     "metadata": {},
     "outputs": [
      {
       "output_type": "stream",
       "stream": "stdout",
       "text": [
        "(3.141592653589794, 4, 1.1102230246251565e-16)\n",
        "(3.141592653589794, 3, 8.242750926257258e-11)\n",
        "(3.141592646213543, 2, 2.3636176602614967e-05)\n"
       ]
      }
     ],
     "prompt_number": 9
    },
    {
     "cell_type": "markdown",
     "metadata": {},
     "source": [
      "listes, dicts et compagnie\n",
      "--------------------------\n",
      "- types courants\n",
      "  - tuple : (a,b,c)\n",
      "    - immutable\n",
      "    - indexable avec des entiers\n",
      "    - parenth\u00e8ses optionelles ( a,b = c,d )\n",
      "  - list : [a, b, c]\n",
      "    - mutable\n",
      "    - indexable avec des entiers\n",
      "  - set : {a, b, c}\n",
      "    - mutable\n",
      "    - indexable avec des entiers\n",
      "    - pas de doublons\n",
      "  - dict : {a:b, c:d}\n",
      "    - mutable\n",
      "    - indexation avec a et c\n",
      "    - a et c sont des cl\u00e9fs uniques et immutables\n",
      "  - str : \"spam\" == 'spam' == \"\"\"spam\"\"\"\n",
      "    - immutable\n",
      "    - indexable avec des entiers\n",
      "    - can contains only decoded characters\n",
      "    - unicode par default\n",
      "- type rares\n",
      "  - frozenset\n",
      "    - immutable\n",
      "    - indexable avec des entiers\n",
      "    - pas de doublons\n",
      "  - bytearray\n",
      "    - mutable\n",
      "    - indexable avec des entiers\n",
      "    - can contains only encoded characters\n",
      "- slicing (pour indexation avec des entiers)\n",
      "  - A[1] : deuxi\u00e8me \u00e9l\u00e9ment\n",
      "  - A[-1] : dernier \u00e9l\u00e9ment\n",
      "  - A[4:8:2] : 5eme et 7eme \u00e9l\u00e9ments \n",
      "- methodes\n",
      "  - len\n",
      "  - append\n",
      "  - sort / sorted\n",
      "- comprehension\n",
      "  ```[x**2 for x in range(10)]```\n",
      "- generators / iterator\n",
      "  - range\n",
      "  - enumerate\n",
      "  - zip\n",
      "  - open(\"filename\")\n",
      "  - ...\n",
      "\n",
      "Quelques exemples\n",
      "-----------------"
     ]
    },
    {
     "cell_type": "code",
     "collapsed": false,
     "input": [
      "def slow_list_primes(n):\n",
      "    primes = []                      # creation d'une liste vide\n",
      "    for suspect in range(2,n + 1):\n",
      "        is_prime = True\n",
      "        for prime in primes:\n",
      "            if suspect % prime == 0:\n",
      "                is_prime = False                \n",
      "                break\n",
      "        if is_prime:\n",
      "            primes.append(suspect)   # aggrandissement de la liste (lent)\n",
      "    return primes\n",
      "\n",
      "slow_list_primes(10)"
     ],
     "language": "python",
     "metadata": {},
     "outputs": [
      {
       "metadata": {},
       "output_type": "pyout",
       "prompt_number": 10,
       "text": [
        "[2, 3, 5, 7]"
       ]
      }
     ],
     "prompt_number": 10
    },
    {
     "cell_type": "code",
     "collapsed": false,
     "input": [
      "def iter_prime(n):\n",
      "    crible = [False] + [True] * (n - 1)                               # creation d'une liste avec operateurs\n",
      "    prime = 0\n",
      "    for is_prime in crible:                                           # parcour d'une liste\n",
      "        prime += 1\n",
      "        if is_prime:\n",
      "            yield prime                                               # g\u00e9n\u00e9rateur\n",
      "            crible[2*(prime-1)+1::prime] = [False] * (n // prime -1)  # slicing\n",
      "            \n",
      "def list_primes(n):\n",
      "    return list(iter_prime(n))  # utilisation d'un it\u00e9rateur\n",
      "\n",
      "list_primes(20)"
     ],
     "language": "python",
     "metadata": {},
     "outputs": [
      {
       "metadata": {},
       "output_type": "pyout",
       "prompt_number": 11,
       "text": [
        "[2, 3, 5, 7, 11, 13, 17, 19]"
       ]
      }
     ],
     "prompt_number": 11
    },
    {
     "cell_type": "code",
     "collapsed": false,
     "input": [
      "def fast_list_primes(n):\n",
      "    crible = [True] * (n // 2)                                       # division enti\u00e8re\n",
      "    for i in range(3, int(n ** 0.5) + 1, 2):\n",
      "        if crible[i // 2]:\n",
      "            crible[i * i // 2::i] = [False] * ((n - i * i - 1) // (2 * i) + 1)\n",
      "    return [2] + [2 * i + 1 for i in range(1, n // 2) if crible[i]]  # comprehension de liste\n",
      "\n",
      "list_primes(50)"
     ],
     "language": "python",
     "metadata": {},
     "outputs": [
      {
       "metadata": {},
       "output_type": "pyout",
       "prompt_number": 12,
       "text": [
        "[2, 3, 5, 7, 11, 13, 17, 19, 23, 29, 31, 37, 41, 43, 47]"
       ]
      }
     ],
     "prompt_number": 12
    },
    {
     "cell_type": "markdown",
     "metadata": {},
     "source": [
      "I/O\n",
      "---\n",
      "- **toujours** decode en entr\u00e9e\n",
      "- **toujours** encode en sortie\n",
      "- formatage\n",
      "  - ```print(\"un nombre : %d\" % nombre)```\n",
      "  - ```print(\"un nombre : {:}\".format(nombre))```\n",
      "  - ```print(f\"un nombre : {nombre:}\")``` (uniquement en python 3.6)\n",
      "- En g\u00e9n\u00e9ral : utiliser un paquets appropi\u00e9 (pillow pour les images) -> ecosyst\u00e8me\n",
      "- Operation sur les string\n",
      "  - TODO\n",
      "- Fichier texte\n",
      "  - lecture"
     ]
    },
    {
     "cell_type": "code",
     "collapsed": false,
     "input": [
      "for line in open(\"README.md\", encoding=\"utf-8\"):      # use of encoding strongly encouraged\n",
      "    print(line.split())"
     ],
     "language": "python",
     "metadata": {},
     "outputs": [
      {
       "output_type": "stream",
       "stream": "stdout",
       "text": [
        "['#', 'formation_python']\n"
       ]
      }
     ],
     "prompt_number": 13
    },
    {
     "cell_type": "markdown",
     "metadata": {},
     "source": [
      "- ecriture"
     ]
    },
    {
     "cell_type": "code",
     "collapsed": false,
     "input": [
      "with open(\"output_filenamme\", 'w', encoding=\"utf-8\") as f:  # utilisation d'un contexte\n",
      "    f.write(\"{:>10} est du texte format\u00e9\".format(\"ceci\"))"
     ],
     "language": "python",
     "metadata": {},
     "outputs": [],
     "prompt_number": 14
    },
    {
     "cell_type": "markdown",
     "metadata": {},
     "source": [
      "VOUS \u00caTES PR\u00c8T A PYTHONISER\n",
      "===========================\n",
      "\n",
      "Quelques \u00e9l\u00e9ments suppl\u00e9mentaire \u00e0 garder en t\u00eate\n",
      "-------------------------------------------------\n",
      "\n",
      "Modules\n",
      "-------\n",
      "- ```__init__.py```\n",
      "- differentes facon d'importer\n",
      "  - ```import paquet```  \n",
      "  Puis paquet.fonction()\n",
      "  - ```from paquet import fonction```  \n",
      "  Puis fonction()\n",
      "  - ```from paquet import *```  \n",
      "  Puis fonction()  \n",
      "  A \u00e9vit\u00e9 !\n",
      "  \n",
      "  \n",
      "- import implique execution\u00a0!  \n",
      "  ```if __name__ == '__main__'```\n",
      "- peut \u00eatre import\u00e9\n",
      "  - tout module dans sys.path (aliment\u00e9 par PYTHONPATH)\n",
      "  - tout sous module avec spam.egg (importera spam puis egg dans le dossier spam)"
     ]
    },
    {
     "cell_type": "code",
     "collapsed": false,
     "input": [
      "from sys import path\n",
      "print(path)"
     ],
     "language": "python",
     "metadata": {},
     "outputs": [
      {
       "output_type": "stream",
       "stream": "stdout",
       "text": [
        "['', '/home/pouxa/.local/lib/python3.5/site-packages/pygpu-0.6.5-py3.5-linux-x86_64.egg', '/usr/lib/python3/dist-packages', '/Data/WORK/Projets/SRC/ImProcPy', '/usr/lib/python35.zip', '/usr/lib/python3.5', '/usr/lib/python3.5/plat-x86_64-linux-gnu', '/usr/lib/python3.5/lib-dynload', '/home/pouxa/.local/lib/python3.5/site-packages', '/usr/local/lib/python3.5/dist-packages', '/usr/lib/python3/dist-packages/IPython/extensions']\n"
       ]
      }
     ],
     "prompt_number": 15
    },
    {
     "cell_type": "markdown",
     "metadata": {},
     "source": [
      "apercu de la stdlib\n",
      "-------------------\n",
      "- builtins     : est toujours import\u00e9 automatiquement, contiens la base (int, print(), ...)\n",
      "- sys et os    : deux modules tr\u00e8s communs pour lire et agir sur l'environnement du code\n",
      "- shutil       : permet de manipuler des fichier (copy, renomage, ...)\n",
      "- math / cmath : contiens les fonction mathematiques classiques (reelles / complexes)\n",
      "- copy         : contiens en particulier deepcopy\n",
      "- pathlib      : permet de manipuler proprement des chemin de fichier (mieux que dossier + \"/\" + fichier)\n",
      "- time\n",
      "- ...\n",
      "\n",
      "Classes (light)\n",
      "---------------\n",
      "**En python TOUT est objet**"
     ]
    },
    {
     "cell_type": "code",
     "collapsed": false,
     "input": [
      "class simple(object):                         # Tous les objets heritent d'object\n",
      "  def __init__(self, attribut=\"value\"):       # constructeur\n",
      "    self.attribut = attribut                  # Bonne facon de d\u00e9finir les attributs\n",
      "    \n",
      "  def get_attribut(self):                     # fonction normale de l'instance\n",
      "    return self.attribut\n"
     ],
     "language": "python",
     "metadata": {},
     "outputs": [
      {
       "output_type": "stream",
       "stream": "stdout",
       "text": [
        "Oeuf au plat :  Sur 6 oeufs, j'en poss\u00e8de 1\n",
        "Omelette     :  Sur 6 oeufs, j'en poss\u00e8de 3\n",
        "Crepes       :  Sur 6 oeufs, j'en poss\u00e8de 2\n",
        "egg          :   NaN | 6\n",
        "oeuf_au_plat :     1 | 6\n",
        "omelette     :     3 | 6\n",
        "crepe        :     2 | 6\n",
        "egg          :   NaN | 3\n",
        "oeuf_au_plat :     1 | 3\n",
        "crepe        :     2 | 3\n",
        "Help on class egg in module __main__:\n",
        "\n",
        "class egg(builtins.object)\n",
        " |  Full exemple of a class in python\n",
        " |  \n",
        " |  Methods defined here:\n",
        " |  \n",
        " |  __del__(self)\n",
        " |      destructor\n",
        " |  \n",
        " |  __init__(self, number=1)\n",
        " |      constructor from number\n",
        " |  \n",
        " |  __str__(self)\n",
        " |      Permet d'imprimer l'instance\n",
        " |  \n",
        " |  combien(self)\n",
        " |      Retourne le nombre d'oeufs dans l'instance\n",
        " |  \n",
        " |  ----------------------------------------------------------------------\n",
        " |  Class methods defined here:\n",
        " |  \n",
        " |  depuis_recette(ingredients) from builtins.type\n",
        " |      constructor from recepee\n",
        " |  \n",
        " |  ----------------------------------------------------------------------\n",
        " |  Static methods defined here:\n",
        " |  \n",
        " |  combien_egg()\n",
        " |      Retourne le nombre d'oeufs au total\n",
        " |  \n",
        " |  ----------------------------------------------------------------------\n",
        " |  Data descriptors defined here:\n",
        " |  \n",
        " |  __dict__\n",
        " |      dictionary for instance variables (if defined)\n",
        " |  \n",
        " |  __weakref__\n",
        " |      list of weak references to the object (if defined)\n",
        " |  \n",
        " |  ----------------------------------------------------------------------\n",
        " |  Data and other attributes defined here:\n",
        " |  \n",
        " |  total_number = 0\n",
        "\n"
       ]
      }
     ],
     "prompt_number": 16
    },
    {
     "cell_type": "markdown",
     "metadata": {},
     "source": [
      "- Methodes speciales\n",
      "  - ```__init__```\n",
      "  - ```__del__```\n",
      "  - ```__str__``` et ```__repr__```\n",
      "  - les operateurs ```__mul__``` ...\n",
      "  - ...\n",
      "- @classmethod et @staticmethod\n",
      "\n",
      "variables ++\n",
      "------------\n",
      "- reference partag\u00e9 (faire un beau dessin ou une belle animation)\n",
      "- port\u00e9e des variables (lecture)\n",
      "  - **L**ocal\n",
      "  - **E**nglobante\n",
      "  - **G**lobale\n",
      "  - **I**mports\n",
      "- espace de nommage (ecriture)\n",
      "  - fonction\n",
      "  - instance\n",
      "  - classe\n",
      "  - module\n",
      "- heritage multiple et MRO\n",
      "\n",
      "Bonnes pratiques\n",
      "================\n",
      "\n",
      "La philosophie de python"
     ]
    },
    {
     "cell_type": "code",
     "collapsed": false,
     "input": [
      "import this # PEP 20"
     ],
     "language": "python",
     "metadata": {},
     "outputs": [
      {
       "output_type": "stream",
       "stream": "stdout",
       "text": [
        "The Zen of Python, by Tim Peters\n",
        "\n",
        "Beautiful is better than ugly.\n",
        "Explicit is better than implicit.\n",
        "Simple is better than complex.\n",
        "Complex is better than complicated.\n",
        "Flat is better than nested.\n",
        "Sparse is better than dense.\n",
        "Readability counts.\n",
        "Special cases aren't special enough to break the rules.\n",
        "Although practicality beats purity.\n",
        "Errors should never pass silently.\n",
        "Unless explicitly silenced.\n",
        "In the face of ambiguity, refuse the temptation to guess.\n",
        "There should be one-- and preferably only one --obvious way to do it.\n",
        "Although that way may not be obvious at first unless you're Dutch.\n",
        "Now is better than never.\n",
        "Although never is often better than *right* now.\n",
        "If the implementation is hard to explain, it's a bad idea.\n",
        "If the implementation is easy to explain, it may be a good idea.\n",
        "Namespaces are one honking great idea -- let's do more of those!\n"
       ]
      }
     ],
     "prompt_number": 17
    },
    {
     "cell_type": "markdown",
     "metadata": {},
     "source": [
      "- Respecter la [PEP 8](https://www.python.org/dev/peps/pep-0008/)\n",
      "- 4 espaces pas de tabulation\n",
      "- Partir de l'existant avant de coder un algo\n",
      "- un code clair sans commentaire est mieux qu'un code obscure mais comment\u00e9\n",
      "- utiliser des docstrings\n",
      "\n",
      "- [The Hitchhiker\u2019s Guide to Python!](http://docs.python-guide.org/en/latest/)\n",
      "- http://www.scipy-lectures.org"
     ]
    }
   ],
   "metadata": {}
  }
 ]
}