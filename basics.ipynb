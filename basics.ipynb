{
 "cells": [
  {
   "cell_type": "markdown",
   "metadata": {},
   "source": [
    "Les bases\n",
    "========\n",
    "\n",
    "Historique\n",
    "----------\n",
    "- 1989 : CWI : **Guido van Rossum**\n",
    "- 1991 : premiere version publique\n",
    "- 1995 : CNRI\n",
    "- 1999 : Computer Programming for Everybody (CNRI + DARPA) objectif : python pour l’**enseignement** de la programation\n",
    "- 2001 : Python software fundation\n",
    "- 2008 : version 3\n",
    "- 2013 : langage enseigné en prépa\n",
    "- 2018 : 4eme langage le plus populaire (après Java, C, C++)\n",
    "- 2020 : mort de python 2.x\n",
    "\n",
    "La force de Python (scipy)\n",
    "------------------\n",
    "\n",
    "- **Batteries included**\n",
    "- **Easy to learn**\n",
    "- **Easy communication**\n",
    "- **Efficient code**\n",
    "- **Universal**\n",
    "\n",
    "installation\n",
    "------------\n",
    "- Windows : anaconda + conda + pip\n",
    "- linux : déjà installé + apt + pip --user\n",
    "- mac : homebrew + brew python3 + pip --user\n",
    "\n",
    "interface\n",
    "---------\n",
    "vim+terminal / IDLE / spyder / notebook\n",
    "\n",
    "Helloworld\n",
    "----------"
   ]
  },
  {
   "cell_type": "code",
   "execution_count": 1,
   "metadata": {},
   "outputs": [
    {
     "name": "stdout",
     "output_type": "stream",
     "text": [
      "Hello World !\n"
     ]
    }
   ],
   "source": [
    "print(\"Hello World !\")"
   ]
  },
  {
   "cell_type": "code",
   "execution_count": 2,
   "metadata": {},
   "outputs": [
    {
     "name": "stdout",
     "output_type": "stream",
     "text": [
      "6.5\n"
     ]
    }
   ],
   "source": [
    "print(2 + 3 * 9 / 6)"
   ]
  },
  {
   "cell_type": "markdown",
   "metadata": {},
   "source": [
    "c’est aussi simple que ca !\n",
    "\n",
    "Syntaxe (cheatsheet)\n",
    "--------------------\n",
    "- Les variables :\n",
    "  - noms\n",
    "    - commence par une lettre\n",
    "    - casse importante\n",
    "    - pas de mots clefs\n",
    "    - pas de symboles opérateurs\n",
    "    - mais les accents sont autorisés (à éviter quand même)\n",
    "  - typage dynamique\n",
    "    - types numériques\n",
    "      - entiers de précision infinie\n",
    "      - float de double précision\n",
    "      - complex\n",
    "    - types « itérables »\n",
    "      - tuple\n",
    "      - list\n",
    "      - set\n",
    "      - dist\n",
    "      - str\n",
    "      - frozenset\n",
    "      - bytarray\n",
    "- les operateurs  \n",
    "  ``` + - * ** / // % = < > <= >= == != () {} [] ‘ \" @ . ```  \n",
    "- l’indentation + \":\" (utiliser ```pass``` pour un bloc vide)\n",
    "- les mots clefs :"
   ]
  },
  {
   "cell_type": "code",
   "execution_count": 3,
   "metadata": {},
   "outputs": [
    {
     "name": "stdout",
     "output_type": "stream",
     "text": [
      "['False', 'None', 'True', 'and', 'as', 'assert', 'break', 'class', 'continue', 'def', 'del', 'elif', 'else', 'except', 'finally', 'for', 'from', 'global', 'if', 'import', 'in', 'is', 'lambda', 'nonlocal', 'not', 'or', 'pass', 'raise', 'return', 'try', 'while', 'with', 'yield']\n"
     ]
    }
   ],
   "source": [
    "from keyword import kwlist\n",
    "print(kwlist)"
   ]
  },
  {
   "cell_type": "markdown",
   "metadata": {},
   "source": [
    "vocabulaire\n",
    "-----------\n",
    "- mutable / immuable\n",
    "  un objet mutable peux changer contrairement à un objet immuable    \n",
    "  les types numériques sont évidement immuable  \n",
    "  \n",
    "  \n",
    "- exception  \n",
    "  python ne plante jamais, quoi que vous écriviez (ou presque jamais)  \n",
    "  si un problème apparait, python lance une exception qui arrete le programme (sauf si elle est traitée)\n",
    "  \n",
    "  \n",
    "- shebang ``` #!/usr/bin/env python3 ```\n",
    "- encoding ``` # -*- coding: utf-8 -*- ```\n",
    "\n",
    "Aides\n",
    "-----\n",
    "- help\n",
    "- dir\n",
    "- internet\n",
    "  - docs.python.org\n",
    "  - stackoverflow\n",
    "  - reddit\n",
    "  - ...\n",
    "  \n",
    "quelques exemples\n",
    "-----------------"
   ]
  },
  {
   "cell_type": "code",
   "execution_count": 4,
   "metadata": {},
   "outputs": [
    {
     "name": "stdout",
     "output_type": "stream",
     "text": [
      "120\n"
     ]
    }
   ],
   "source": [
    "def factorielle(n):                    # définition d'une fonction avec argument\n",
    "    if n < 2:                          # définition d'un test\n",
    "        return 1                       # multiples points de retours\n",
    "    else:\n",
    "        return n * factorielle(n - 1)  # récursivité\n",
    "    \n",
    "res = factorielle(5)\n",
    "print(res)"
   ]
  },
  {
   "cell_type": "code",
   "execution_count": 5,
   "metadata": {},
   "outputs": [
    {
     "name": "stdout",
     "output_type": "stream",
     "text": [
      "120\n"
     ]
    }
   ],
   "source": [
    "def factorielle_cinq():                # définition d'une fonction sans argument\n",
    "    return factorielle(5)\n",
    "\n",
    "res = factorielle_cinq()\n",
    "print(res)"
   ]
  },
  {
   "cell_type": "code",
   "execution_count": 6,
   "metadata": {},
   "outputs": [
    {
     "name": "stdout",
     "output_type": "stream",
     "text": [
      "True\n",
      "False\n"
     ]
    }
   ],
   "source": [
    "def is_prime(num):\n",
    "    if num == 1:\n",
    "        return False\n",
    "    for i in range(2, int(num ** 0.5)+1):  # définition d'une boucle avec range\n",
    "       if (num % i) == 0:\n",
    "          return False\n",
    "    return True\n",
    "\n",
    "print(is_prime(7))                         # enchainement de fonction\n",
    "print(is_prime(9))"
   ]
  },
  {
   "cell_type": "code",
   "execution_count": 7,
   "metadata": {},
   "outputs": [
    {
     "name": "stdout",
     "output_type": "stream",
     "text": [
      "49 343\n"
     ]
    }
   ],
   "source": [
    "def quadcube(x):\n",
    "    return x ** 2, x ** 3  # multiples valeurs retours\n",
    "\n",
    "x1, x2 = quadcube(7)\n",
    "print(x1,x2)"
   ]
  },
  {
   "cell_type": "code",
   "execution_count": 8,
   "metadata": {},
   "outputs": [
    {
     "name": "stdout",
     "output_type": "stream",
     "text": [
      "(3.141592653589794, 4, 1.1102230246251565e-16)\n",
      "(3.141592653589794, 3, 8.242750926257258e-11)\n",
      "(3.141592646213543, 2, 2.3636176602614967e-05)\n"
     ]
    }
   ],
   "source": [
    "# TODO transform this into an exercice\n",
    "\n",
    "def calcul_pi(err, nmax=float(\"inf\")):    # argument optionnel\n",
    "    n = 0\n",
    "    erreur = float(\"inf\")\n",
    "    \n",
    "    a_n = 1.\n",
    "    b_n = 2 ** -0.5\n",
    "    t = 0.25\n",
    "    while erreur > err and n < nmax:\n",
    "        a_np = 0.5 * (a_n + b_n)\n",
    "        b_np = (a_n * b_n) ** 0.5\n",
    "        t -= (2 ** n) * (a_n - a_np) ** 2  # soustraction sur place\n",
    "        \n",
    "        a_n, b_n = a_np, b_np              # double affectation\n",
    "        \n",
    "        erreur = abs(a_n - b_n)\n",
    "        n = n + 1\n",
    "        \n",
    "    pi = (a_n + b_n) ** 2 / (4 * t)\n",
    "    return pi, n, erreur\n",
    "\n",
    "print(calcul_pi(1e-15))\n",
    "print(calcul_pi(1e-15, 3))\n",
    "print(calcul_pi(1e-15, nmax=2))"
   ]
  },
  {
   "cell_type": "code",
   "execution_count": 9,
   "metadata": {},
   "outputs": [
    {
     "name": "stdout",
     "output_type": "stream",
     "text": [
      "Help on function pythagorean_triplets in module __main__:\n",
      "\n",
      "pythagorean_triplets(limit)\n",
      "    print all pythagorean triplets below a limit\n",
      "    \n",
      "    A pythagorean triplet is a triplet of integers a, b and c such that\n",
      "    a^2 + b^2 = c^2\n",
      "\n",
      "3 4 5\n",
      "8 6 10\n",
      "5 12 13\n",
      "15 8 17\n",
      "12 16 20\n",
      "7 24 25\n"
     ]
    }
   ],
   "source": [
    "# TODO transform this into an exercice\n",
    "\n",
    "def pythagorean_triplets(limit):\n",
    "    \"\"\" print all pythagorean triplets below a limit\n",
    "    \n",
    "    A pythagorean triplet is a triplet of integers a, b and c such that\n",
    "    a^2 + b^2 = c^2\n",
    "    \"\"\"                                       # use a docstring\n",
    "    c = 0\n",
    "    m = 2\n",
    "    while(c < limit):\n",
    "        tests = True\n",
    "        n = 0\n",
    "        while tests:\n",
    "            n +=1\n",
    "\n",
    "            a = m * m - n * n\n",
    "            b = 2 * m * n\n",
    "            c = m * m + n * n\n",
    "            \n",
    "            tests = a != 0 and b != 0 and 0 < c <= limit # double tests\n",
    "                    \n",
    "            if tests:\n",
    "                print(a, b, c)\n",
    "            tests = tests and n <= m\n",
    "            \n",
    "        m = m + 1\n",
    "        \n",
    "help(pythagorean_triplets)\n",
    "pythagorean_triplets(30)"
   ]
  },
  {
   "cell_type": "markdown",
   "metadata": {},
   "source": [
    "listes, dicts et compagnie\n",
    "--------------------------\n",
    "- types courants\n",
    "  - tuple : (a,b,c)\n",
    "    - immutable\n",
    "    - indexable avec des entiers\n",
    "    - parenthèses optionelles ( a,b = c,d )\n",
    "  - list : [a, b, c]\n",
    "    - mutable\n",
    "    - indexable avec des entiers\n",
    "  - set : {a, b, c}\n",
    "    - mutable\n",
    "    - indexable avec des entiers\n",
    "    - pas de doublons\n",
    "  - dict : {a:b, c:d}\n",
    "    - mutable\n",
    "    - indexation avec a et c\n",
    "    - a et c sont des cléfs uniques et immutables\n",
    "  - str : \"spam\" == 'spam' == \"\"\"spam\"\"\"\n",
    "    - immutable\n",
    "    - indexable avec des entiers\n",
    "    - can contains only decoded characters\n",
    "    - unicode par default\n",
    "- type rares\n",
    "  - frozenset\n",
    "    - immutable\n",
    "    - indexable avec des entiers\n",
    "    - pas de doublons\n",
    "  - bytearray\n",
    "    - mutable\n",
    "    - indexable avec des entiers\n",
    "    - can contains only encoded characters\n",
    "- slicing (pour indexation avec des entiers)\n",
    "  - A[1] : deuxième élément\n",
    "  - A[-1] : dernier élément\n",
    "  - A[4:8:2] : 5eme et 7eme éléments \n",
    "- methodes\n",
    "  - len\n",
    "  - append\n",
    "  - sort / sorted\n",
    "- comprehension\n",
    "  ```[x**2 for x in range(10)]```\n",
    "- generators / iterator\n",
    "  - range\n",
    "  - enumerate\n",
    "  - zip\n",
    "  - open(\"filename\")\n",
    "  - ...\n",
    "\n",
    "Quelques exemples\n",
    "-----------------"
   ]
  },
  {
   "cell_type": "code",
   "execution_count": 10,
   "metadata": {},
   "outputs": [
    {
     "data": {
      "text/plain": [
       "[2, 3, 5, 7]"
      ]
     },
     "execution_count": 10,
     "metadata": {},
     "output_type": "execute_result"
    }
   ],
   "source": [
    "def slow_list_primes(n):\n",
    "    primes = []                      # creation d'une liste vide\n",
    "    for suspect in range(2,n + 1):\n",
    "        is_prime = True\n",
    "        for prime in primes:\n",
    "            if suspect % prime == 0:\n",
    "                is_prime = False                \n",
    "                break\n",
    "        if is_prime:\n",
    "            primes.append(suspect)   # aggrandissement de la liste (lent)\n",
    "    return primes\n",
    "\n",
    "slow_list_primes(10)"
   ]
  },
  {
   "cell_type": "code",
   "execution_count": 11,
   "metadata": {},
   "outputs": [
    {
     "data": {
      "text/plain": [
       "[2, 3, 5, 7, 11, 13, 17, 19]"
      ]
     },
     "execution_count": 11,
     "metadata": {},
     "output_type": "execute_result"
    }
   ],
   "source": [
    "# TODO turn this into an exercice\n",
    "def iter_prime(n):\n",
    "    crible = [False] + [True] * (n - 1)                               # creation d'une liste avec operateurs\n",
    "    prime = 0\n",
    "    for is_prime in crible:                                           # parcour d'une liste\n",
    "        prime += 1\n",
    "        if is_prime:\n",
    "            yield prime                                               # générateur\n",
    "            crible[2*(prime-1)+1::prime] = [False] * (n // prime -1)  # slicing\n",
    "            \n",
    "def list_primes(n):\n",
    "    return list(iter_prime(n))  # utilisation d'un itérateur\n",
    "\n",
    "list_primes(20)"
   ]
  },
  {
   "cell_type": "markdown",
   "metadata": {},
   "source": [
    "I/O\n",
    "---\n",
    "- **toujours** decode en entrée\n",
    "- **toujours** encode en sortie\n",
    "- formatage\n",
    "  - ```print(\"un nombre : %d\" % nombre)```\n",
    "  - ```print(\"un nombre : {:}\".format(nombre))```\n",
    "  - ```print(f\"un nombre : {nombre:}\")``` (uniquement en python 3.6)\n",
    "- En général : utiliser un paquets appropié (pillow pour les images) -> ecosystème\n",
    "- Operation sur les string\n",
    "  - TODO\n",
    "- Fichier texte\n",
    "  - lecture"
   ]
  },
  {
   "cell_type": "code",
   "execution_count": 12,
   "metadata": {},
   "outputs": [
    {
     "name": "stdout",
     "output_type": "stream",
     "text": [
      "['#', 'formation_python']\n"
     ]
    }
   ],
   "source": [
    "for line in open(\"README.md\", encoding=\"utf-8\"):      # use of encoding strongly encouraged\n",
    "    print(line.split())"
   ]
  },
  {
   "cell_type": "markdown",
   "metadata": {},
   "source": [
    "- ecriture"
   ]
  },
  {
   "cell_type": "code",
   "execution_count": 13,
   "metadata": {},
   "outputs": [],
   "source": [
    "with open(\"output_filenamme\", 'w', encoding=\"utf-8\") as f:  # utilisation d'un contexte\n",
    "    f.write(\"{:>10} est du texte formaté\".format(\"ceci\"))"
   ]
  },
  {
   "cell_type": "code",
   "execution_count": 14,
   "metadata": {},
   "outputs": [],
   "source": [
    "# exo"
   ]
  },
  {
   "cell_type": "markdown",
   "metadata": {},
   "source": [
    "VOUS ÊTES PRÈT A PYTHONISER\n",
    "===========================\n",
    "\n",
    "Quelques éléments supplémentaire à garder en tête\n",
    "-------------------------------------------------\n",
    "\n",
    "Modules\n",
    "-------\n",
    "- ```__init__.py```\n",
    "- differentes facon d'importer\n",
    "  - ```import paquet```  \n",
    "  Puis paquet.fonction()\n",
    "  - ```from paquet import fonction```  \n",
    "  Puis fonction()\n",
    "  - ```from paquet import *```  \n",
    "  Puis fonction()  \n",
    "  A évité !\n",
    "  \n",
    "  \n",
    "- import implique execution !  \n",
    "  ```if __name__ == '__main__'```\n",
    "- peut être importé\n",
    "  - tout module dans sys.path (alimenté par PYTHONPATH)\n",
    "  - tout sous module avec spam.egg (importera spam puis egg dans le dossier spam)"
   ]
  },
  {
   "cell_type": "code",
   "execution_count": 15,
   "metadata": {},
   "outputs": [
    {
     "name": "stdout",
     "output_type": "stream",
     "text": [
      "['', '/usr/lib/python35.zip', '/usr/lib/python3.5', '/usr/lib/python3.5/plat-x86_64-linux-gnu', '/usr/lib/python3.5/lib-dynload', '/Data/WORK/Formations/Python/formation_python/venv/lib/python3.5/site-packages', '/Data/WORK/Formations/Python/formation_python/venv/lib/python3.5/site-packages/IPython/extensions', '/home/pouxa/.ipython']\n"
     ]
    }
   ],
   "source": [
    "from sys import path\n",
    "print(path)"
   ]
  },
  {
   "cell_type": "markdown",
   "metadata": {},
   "source": [
    "apercu de la stdlib\n",
    "-------------------\n",
    "- builtins     : est toujours importé automatiquement, contiens la base (int, print(), ...)\n",
    "- sys et os    : deux modules très communs pour lire et agir sur l'environnement du code\n",
    "- shutil       : permet de manipuler des fichier (copy, renomage, ...)\n",
    "- math / cmath : contiens les fonction mathematiques classiques (reelles / complexes)\n",
    "- copy         : contiens en particulier deepcopy\n",
    "- pathlib      : permet de manipuler proprement des chemin de fichier (dossier / fichier est mieux que dossier + \"/\" + fichier)\n",
    "- time\n",
    "- ...\n",
    "\n",
    "Classes (light)\n",
    "---------------\n",
    "**En python TOUT est objet**"
   ]
  },
  {
   "cell_type": "code",
   "execution_count": 16,
   "metadata": {},
   "outputs": [
    {
     "name": "stdout",
     "output_type": "stream",
     "text": [
      "value\n",
      "bidule\n",
      "bidule\n"
     ]
    }
   ],
   "source": [
    "class simple(object):                         # Tous les objets heritent d'object\n",
    "  def __init__(self, attribut=\"value\"):       # constructeur\n",
    "    self.attribut = attribut                  # Bonne facon de définir les attributs\n",
    "    \n",
    "  def get_attribut(self):                     # fonction normale de l'instance\n",
    "    return self.attribut\n",
    "\n",
    "truc = simple()\n",
    "chose = simple(\"bidule\")\n",
    "\n",
    "print(truc.attribut)\n",
    "print(chose.attribut)\n",
    "print(chose.get_attribut())"
   ]
  },
  {
   "cell_type": "markdown",
   "metadata": {},
   "source": [
    "- Methodes speciales\n",
    "  - ```__init__```\n",
    "  - ```__del__```\n",
    "  - ```__str__``` et ```__repr__```\n",
    "  - les operateurs ```__mul__``` ...\n",
    "  - ...\n",
    "  \n",
    "variables ++\n",
    "------------\n",
    "- reference partagé (faire un beau dessin ou une belle animation)\n",
    "- portée des variables (lecture)\n",
    "  - **L**ocal\n",
    "  - **E**nglobante\n",
    "  - **G**lobale\n",
    "  - **I**mports\n",
    "- espace de nommage (?)\n",
    "  - fonction\n",
    "  - instance\n",
    "  - classe\n",
    "  - module\n",
    "- heritage multiple et MRO\n",
    "\n",
    "Bonnes pratiques\n",
    "================\n",
    "\n",
    "La philosophie de python"
   ]
  },
  {
   "cell_type": "code",
   "execution_count": 17,
   "metadata": {},
   "outputs": [
    {
     "name": "stdout",
     "output_type": "stream",
     "text": [
      "The Zen of Python, by Tim Peters\n",
      "\n",
      "Beautiful is better than ugly.\n",
      "Explicit is better than implicit.\n",
      "Simple is better than complex.\n",
      "Complex is better than complicated.\n",
      "Flat is better than nested.\n",
      "Sparse is better than dense.\n",
      "Readability counts.\n",
      "Special cases aren't special enough to break the rules.\n",
      "Although practicality beats purity.\n",
      "Errors should never pass silently.\n",
      "Unless explicitly silenced.\n",
      "In the face of ambiguity, refuse the temptation to guess.\n",
      "There should be one-- and preferably only one --obvious way to do it.\n",
      "Although that way may not be obvious at first unless you're Dutch.\n",
      "Now is better than never.\n",
      "Although never is often better than *right* now.\n",
      "If the implementation is hard to explain, it's a bad idea.\n",
      "If the implementation is easy to explain, it may be a good idea.\n",
      "Namespaces are one honking great idea -- let's do more of those!\n"
     ]
    }
   ],
   "source": [
    "import this # PEP 20"
   ]
  },
  {
   "cell_type": "markdown",
   "metadata": {},
   "source": [
    "- Respecter la [PEP 8](https://www.python.org/dev/peps/pep-0008/)\n",
    "- 4 espaces pas de tabulation\n",
    "- Partir de l'existant avant de coder un algo\n",
    "- un code clair sans commentaire est mieux qu'un code obscure mais commenté\n",
    "- utiliser des docstrings\n",
    "\n",
    "- [The Hitchhiker’s Guide to Python!](http://docs.python-guide.org/en/latest/)\n",
    "- http://www.scipy-lectures.org"
   ]
  }
 ],
 "metadata": {
  "kernelspec": {
   "display_name": "Python 3",
   "language": "python",
   "name": "python3"
  },
  "language_info": {
   "codemirror_mode": {
    "name": "ipython",
    "version": 3
   },
   "file_extension": ".py",
   "mimetype": "text/x-python",
   "name": "python",
   "nbconvert_exporter": "python",
   "pygments_lexer": "ipython3",
   "version": "3.5.2"
  }
 },
 "nbformat": 4,
 "nbformat_minor": 1
}
