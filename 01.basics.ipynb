{
 "cells": [
  {
   "cell_type": "markdown",
   "metadata": {},
   "source": [
    "# Basics\n",
    "\n",
    "---\n",
    "\n",
    "## Overview\n",
    "\n",
    "---\n",
    "\n",
    "### History\n",
    "\n",
    "- 1989: **Guido van Rossum** (At CWI, Netherland)\n",
    "- 1991: First public release\n",
    "- 1995: CNRI, USA\n",
    "- 1999: Computer Programming for Everybody (CNRI + DARPA) objective : python for **teaching** programming \n",
    "- 2001: Python software fundation (free from governments)\n",
    "- 2008: version 3\n",
    "- 2013: widely use in post-graduate\n",
    "- 2018: 4th most popular language (behind Java, C and C++)\n",
    "- 2020: death of python 2.x?\n",
    "\n",
    "### Advantages of Python \n",
    "- **Batteries included** (+numpy, scipy, scikits)\n",
    "- **Easy to learn**\n",
    "- **Easy communication**\n",
    "- **Efficient code**\n",
    "- **Universal**\n",
    "\n",
    "### Install\n",
    "- Windows : anaconda + conda + pip\n",
    "- Linux : already install + apt + pip --user\n",
    "- Mac : homebrew + brew python3 + pip --user\n",
    "\n",
    "### Interface\n",
    "vim+terminal / pycharm / spyder / jupyter / ...\n",
    "\n",
    "### First examples\n",
    "\n",
    "---\n",
    "\n",
    "#### Helloworld"
   ]
  },
  {
   "cell_type": "code",
   "execution_count": 1,
   "metadata": {},
   "outputs": [
    {
     "name": "stdout",
     "output_type": "stream",
     "text": [
      "Hello World!\n"
     ]
    }
   ],
   "source": [
    "print(\"Hello World!\")"
   ]
  },
  {
   "cell_type": "markdown",
   "metadata": {},
   "source": [
    "#### Arithmetic"
   ]
  },
  {
   "cell_type": "code",
   "execution_count": 2,
   "metadata": {},
   "outputs": [
    {
     "name": "stdout",
     "output_type": "stream",
     "text": [
      "6.5\n"
     ]
    }
   ],
   "source": [
    "print(2 + 3 * 9 / 6)"
   ]
  },
  {
   "cell_type": "markdown",
   "metadata": {},
   "source": [
    "# As simple as that!\n",
    "\n",
    "---\n",
    "\n",
    "\n",
    "### Syntax\n",
    "\n",
    "---\n",
    "\n",
    "- Commments\n",
    "    - use hash symbol (```#```) to start a comment \n",
    "- Variables:\n",
    "  - name (identifier)\n",
    "    - combination of letters or digits or an underscore (_)\n",
    "    - cannot start with a digit\n",
    "    - case sensitive\n",
    "    - no keywords\n",
    "    - no operator symbol\n",
    "    - accented caracter allowed (but to avoid)\n",
    "  - dynamic type\n",
    "    - ```None```\n",
    "    - numericals type\n",
    "      - integer infinite precision\n",
    "      - float double precision\n",
    "      - complex\n",
    "    - iterables type\n",
    "      - tuple\n",
    "      - list\n",
    "      - set\n",
    "      - dist\n",
    "      - str\n",
    "      - frozenset\n",
    "      - bytarray\n",
    "- operators  \n",
    "  ``` + - * ** / // % = < > <= >= == != () {} [] ‘ \" @ . ```  \n",
    "- keywords:"
   ]
  },
  {
   "cell_type": "code",
   "execution_count": 3,
   "metadata": {},
   "outputs": [
    {
     "name": "stdout",
     "output_type": "stream",
     "text": [
      "['False', 'None', 'True', 'and', 'as', 'assert', 'break', 'class', 'continue', 'def', 'del', 'elif', 'else', 'except', 'finally', 'for', 'from', 'global', 'if', 'import', 'in', 'is', 'lambda', 'nonlocal', 'not', 'or', 'pass', 'raise', 'return', 'try', 'while', 'with', 'yield']\n"
     ]
    }
   ],
   "source": [
    "from keyword import kwlist\n",
    "print(kwlist)"
   ]
  },
  {
   "cell_type": "markdown",
   "metadata": {},
   "source": [
    "### Vocabulary\n",
    "- ```mutable``` / ```immutable```  \n",
    "  ```unashable``` / ```hashable```  \n",
    "  a mutable object can be altered an immutable object can not    \n",
    "  obviously numerical object are immutable\n",
    "  \n",
    "  \n",
    "- ```exception```  \n",
    "  wathever you do, python never crash (almost never)  \n",
    "  Errors detected during execution are called exceptions and you can handle them"
   ]
  },
  {
   "cell_type": "code",
   "execution_count": 4,
   "metadata": {
    "scrolled": true
   },
   "outputs": [
    {
     "ename": "TypeError",
     "evalue": "unhashable type: 'list'",
     "output_type": "error",
     "traceback": [
      "\u001b[0;31m---------------------------------------------------------------------------\u001b[0m",
      "\u001b[0;31mTypeError\u001b[0m                                 Traceback (most recent call last)",
      "\u001b[0;32m<ipython-input-4-34d1277b94e9>\u001b[0m in \u001b[0;36m<module>\u001b[0;34m()\u001b[0m\n\u001b[1;32m      1\u001b[0m \u001b[0;32mdef\u001b[0m \u001b[0mtest\u001b[0m\u001b[0;34m(\u001b[0m\u001b[0;34m)\u001b[0m\u001b[0;34m:\u001b[0m\u001b[0;34m\u001b[0m\u001b[0m\n\u001b[1;32m      2\u001b[0m     \u001b[0merror\u001b[0m \u001b[0;34m=\u001b[0m \u001b[0;34m{\u001b[0m\u001b[0;34m[\u001b[0m\u001b[0;36m0\u001b[0m\u001b[0;34m]\u001b[0m\u001b[0;34m:\u001b[0m\u001b[0;36m4\u001b[0m\u001b[0;34m}\u001b[0m\u001b[0;34m\u001b[0m\u001b[0m\n\u001b[0;32m----> 3\u001b[0;31m \u001b[0mtest\u001b[0m\u001b[0;34m(\u001b[0m\u001b[0;34m)\u001b[0m\u001b[0;34m\u001b[0m\u001b[0m\n\u001b[0m",
      "\u001b[0;32m<ipython-input-4-34d1277b94e9>\u001b[0m in \u001b[0;36mtest\u001b[0;34m()\u001b[0m\n\u001b[1;32m      1\u001b[0m \u001b[0;32mdef\u001b[0m \u001b[0mtest\u001b[0m\u001b[0;34m(\u001b[0m\u001b[0;34m)\u001b[0m\u001b[0;34m:\u001b[0m\u001b[0;34m\u001b[0m\u001b[0m\n\u001b[0;32m----> 2\u001b[0;31m     \u001b[0merror\u001b[0m \u001b[0;34m=\u001b[0m \u001b[0;34m{\u001b[0m\u001b[0;34m[\u001b[0m\u001b[0;36m0\u001b[0m\u001b[0;34m]\u001b[0m\u001b[0;34m:\u001b[0m\u001b[0;36m4\u001b[0m\u001b[0;34m}\u001b[0m\u001b[0;34m\u001b[0m\u001b[0m\n\u001b[0m\u001b[1;32m      3\u001b[0m \u001b[0mtest\u001b[0m\u001b[0;34m(\u001b[0m\u001b[0;34m)\u001b[0m\u001b[0;34m\u001b[0m\u001b[0m\n",
      "\u001b[0;31mTypeError\u001b[0m: unhashable type: 'list'"
     ]
    }
   ],
   "source": [
    "def test():\n",
    "    error = {[0]:4}\n",
    "test()"
   ]
  },
  {
   "cell_type": "markdown",
   "metadata": {},
   "source": [
    "### Help\n",
    "\n",
    "- help\n",
    "- dir\n",
    "- internet\n",
    "  - docs.python.org\n",
    "  - stackoverflow\n",
    "  - reddit\n",
    "  - ...\n",
    "  \n",
    "### simple exemple"
   ]
  },
  {
   "cell_type": "code",
   "execution_count": 5,
   "metadata": {},
   "outputs": [
    {
     "name": "stdout",
     "output_type": "stream",
     "text": [
      "1 1.2 2.2\n",
      "spam spam egg\n",
      "1000000000000000000000000000000000000000000000000000000000000000000000000000000000000000000000000000000000000000000000000000000000000000000000000000000000000000000000000000000000001\n"
     ]
    }
   ],
   "source": [
    "# A comment\n",
    "a_variable = 1\n",
    "another_variable = 1.2\n",
    "another_Variable = a_variable + another_variable\n",
    "print(a_variable, another_variable, another_Variable)\n",
    "\n",
    "a_variable = \"spam \"\n",
    "a_variable2 = \"egg\"\n",
    "print(a_variable * 2 + a_variable2)\n",
    "\n",
    "print(10 ** 180 + 1)"
   ]
  },
  {
   "cell_type": "markdown",
   "metadata": {},
   "source": [
    "## First exercise\n",
    "\n",
    "---\n",
    "\n",
    "From a radius ```R``` and a length ```l```, compute the perimetre, the surface and the volume of a cylinder"
   ]
  },
  {
   "cell_type": "code",
   "execution_count": 6,
   "metadata": {
    "collapsed": true
   },
   "outputs": [],
   "source": [
    "R = 0.7\n",
    "l = 0.1\n",
    "pi = 3.14\n",
    "\n",
    "# TODO"
   ]
  },
  {
   "cell_type": "markdown",
   "metadata": {},
   "source": [
    "<button data-toggle=\"collapse\" data-target=\"#simple\">Solution</button>\n",
    "\n",
    "<div id=\"simple\" class=\"collapse\">\n",
    "```python\n",
    "perimetre = 2 * (2 * pi * R)\n",
    "surface =  2 * pi * R * (R + l)\n",
    "volume = l * pi * R ** 2\n",
    "\n",
    "print(\"Perimetre = \", perimetre)\n",
    "print(\"Surface = \", surface)\n",
    "print(\"Volume = \", volume)\n",
    "```"
   ]
  },
  {
   "cell_type": "markdown",
   "metadata": {},
   "source": [
    "## Code blocks  \n",
    "  ```\n",
    "  code block:\n",
    "      stuff inside the code block\n",
    "      more stuff  inside the code block\n",
    "      pass # do nothing\n",
    "  outside of the code block\n",
    "  ```\n",
    "  - tests : ```if test```\n",
    "  - functions : ```def functionname()```\n",
    "  - loops : ```for variable in iterable```, ```while test```\n",
    "  - objects : ```class objectname()```\n",
    "  - contexts : ```with context```\n",
    "  - exception handling : ```try```, ```except```"
   ]
  },
  {
   "cell_type": "markdown",
   "metadata": {},
   "source": [
    "#### `def` Statements\n",
    "\n",
    "```python\n",
    "def a_function(arg, optionnal_arg=default_value):\n",
    "    #...\n",
    "    return something\n",
    "```\n",
    "#### `if` Statements\n",
    "\n",
    "```python\n",
    "if test:\n",
    "    action\n",
    "else\n",
    "    other_action\n",
    "```\n",
    "If test is:\n",
    "- `True`\n",
    "- `1` or any non-zero value\n",
    "- an non-empty iterable\n",
    "then it will do `action`.   \n",
    "\n",
    "Thus, if test is:\n",
    "- `False`\n",
    "- `0`\n",
    "- an empty iterable\n",
    "thn it will do `other_action`\n",
    "\n",
    "For tests, you can use those operators:\n",
    "```python\n",
    "and, or, not, ==, !=, is, is not, >, >=, <, <=, in, not in\n",
    "```"
   ]
  },
  {
   "cell_type": "code",
   "execution_count": 7,
   "metadata": {},
   "outputs": [
    {
     "name": "stdout",
     "output_type": "stream",
     "text": [
      "49 343\n"
     ]
    }
   ],
   "source": [
    "def quadcube(x):           # define a function with argument\n",
    "    return x ** 2, x ** 3  # multiple returns\n",
    "\n",
    "x1, x2 = quadcube(7)       # multiple assignment \n",
    "print(x1,x2)"
   ]
  },
  {
   "cell_type": "code",
   "execution_count": 8,
   "metadata": {},
   "outputs": [
    {
     "name": "stdout",
     "output_type": "stream",
     "text": [
      "265252859812191058636308480000000\n"
     ]
    }
   ],
   "source": [
    "def factorial(n):\n",
    "    if n < 2:                          # define a test\n",
    "        return 1                       # value return\n",
    "    else:\n",
    "        return n * factorial(n - 1)    # recursion\n",
    "    \n",
    "res = factorial(30)                    # call the function\n",
    "print(res)"
   ]
  },
  {
   "cell_type": "code",
   "execution_count": 9,
   "metadata": {},
   "outputs": [
    {
     "name": "stdout",
     "output_type": "stream",
     "text": [
      "720\n"
     ]
    }
   ],
   "source": [
    "def factorial_six():                # function without argument\n",
    "    return factorial(6)\n",
    "\n",
    "res = factorial_six()\n",
    "print(res)"
   ]
  },
  {
   "cell_type": "markdown",
   "metadata": {},
   "source": [
    "#### `while` loop\n",
    "```python\n",
    "i = 0\n",
    "while i < 4:\n",
    "    ...\n",
    "    i += 1\n",
    "```\n",
    "\n",
    "#### Loop over iterable object\n",
    "```python\n",
    "for i in [5, 3, 4]:\n",
    "    ...\n",
    "```\n",
    "Usualy, using ```range(start=0, end, step=1)``` which kind of create [start, start + step, ..., end - step]\n",
    "\n",
    "> ***WARNING*** : The last iteration will be **end - step**\n",
    "\n"
   ]
  },
  {
   "cell_type": "code",
   "execution_count": 10,
   "metadata": {},
   "outputs": [
    {
     "name": "stdout",
     "output_type": "stream",
     "text": [
      "True\n",
      "True\n"
     ]
    }
   ],
   "source": [
    "def is_prime(num):\n",
    "    if num == 1:\n",
    "        return False\n",
    "    i = 2\n",
    "    while i < int(num ** 0.5) + 1:\n",
    "        if (num % i) == 0:\n",
    "            return False\n",
    "        i += 1\n",
    "    return True\n",
    "\n",
    "def is_prime2(num):                          # equivalant variation\n",
    "    if num == 1:\n",
    "        return False\n",
    "    for i in range(2, int(num ** 0.5) + 1):  # using range\n",
    "        if (num % i) == 0:\n",
    "            return False\n",
    "    return True\n",
    "\n",
    "print(is_prime(7))                           # chain functions (f(g(...)))\n",
    "print(is_prime2(13))"
   ]
  },
  {
   "cell_type": "code",
   "execution_count": 11,
   "metadata": {},
   "outputs": [
    {
     "name": "stdout",
     "output_type": "stream",
     "text": [
      "(3.141592653589794, 4, 1.1102230246251565e-16)\n",
      "(3.141592653589794, 3, 8.242750926257258e-11)\n",
      "(3.141592646213543, 2, 2.3636176602614967e-05)\n"
     ]
    }
   ],
   "source": [
    "def compute_pi(err, nmax=float(\"inf\")):    #optional argument\n",
    "    n = 0\n",
    "    error = float(\"inf\")\n",
    "    \n",
    "    a_n = 1.\n",
    "    b_n = 2 ** -0.5\n",
    "    t = 0.25\n",
    "    while error > err and n < nmax:\n",
    "        a_np = 0.5 * (a_n + b_n)\n",
    "        b_np = (a_n * b_n) ** 0.5\n",
    "        t -= (2 ** n) * (a_n - a_np) ** 2  # inplace substraction\n",
    "        \n",
    "        a_n, b_n = a_np, b_np              # double assigment\n",
    "        \n",
    "        error = abs(a_n - b_n)\n",
    "        n += 1                             # inplace addition\n",
    "        \n",
    "    pi = (a_n + b_n) ** 2 / (4 * t)\n",
    "    return pi, n, error\n",
    "\n",
    "print(compute_pi(1e-15))\n",
    "print(compute_pi(1e-15, 3))\n",
    "print(compute_pi(1e-15, nmax=2))"
   ]
  },
  {
   "cell_type": "markdown",
   "metadata": {},
   "source": [
    "### Exercise\n",
    "\n",
    "---\n",
    "\n",
    "A pythagorean triplet is a triplet of positive intergers $a$, $b$ and $c$ such that\n",
    "$a^2+b^2=c^2$.\n",
    "\n",
    "For each pair of positive integers $m,n$:\n",
    "- $a=m^2-n^2$\n",
    "- $b=2mn$\n",
    "- $c=m^2+n^2$  \n",
    "is a pythagorean triplet if and only if $a$, $b$ and $c$ are strictly positive.\n",
    "\n",
    "Write a function ```pythagorean_triplet(limit)``` who:\n",
    "1. loops on $n$ and $m$\n",
    "2. use the previous property in order to detect a triplet\n",
    "3. print all the triplet until a limit, i.e. $c<limit$."
   ]
  },
  {
   "cell_type": "code",
   "execution_count": 12,
   "metadata": {},
   "outputs": [
    {
     "name": "stdout",
     "output_type": "stream",
     "text": [
      "Help on function pythagorean_triplets in module __main__:\n",
      "\n",
      "pythagorean_triplets(limit)\n",
      "    Print all pythagorean triplets below a limit\n",
      "    \n",
      "    A pythagorean triplet is a triplet of integers a, b and c such that\n",
      "    a^2 + b^2 = c^2\n",
      "\n"
     ]
    }
   ],
   "source": [
    "# Exercise\n",
    "def pythagorean_triplets(limit):\n",
    "    \"\"\"\n",
    "    Print all pythagorean triplets below a limit\n",
    "    \n",
    "    A pythagorean triplet is a triplet of integers a, b and c such that\n",
    "    a^2 + b^2 = c^2\n",
    "    \"\"\"                                       # use a docstring\n",
    "    #TODO\n",
    "    \n",
    "help(pythagorean_triplets)\n",
    "pythagorean_triplets(30)"
   ]
  },
  {
   "cell_type": "markdown",
   "metadata": {},
   "source": [
    "<button data-toggle=\"collapse\" data-target=\"#pythagore\">Solution</button>\n",
    "\n",
    "<div id=\"pythagore\" class=\"collapse\">\n",
    "```python\n",
    "def pythagorean_triplets(limit):\n",
    "    \"\"\"\n",
    "    Print all pythagorean triplets below a limit\n",
    "\n",
    "    A pythagorean triplet is a triplet of integers a, b and c such that\n",
    "    a^2 + b^2 = c^2\n",
    "    \"\"\"                                   # use a docstring\n",
    "    \n",
    "    # compute range of m\n",
    "    m_max = limit ** 0.5                  # m ** 2 cannot be bigger than limit\n",
    "    m_max = int(m_max)                    # m_max must be an interger\n",
    "    \n",
    "    for m in range(1, m_max + 1):         # the range of m in [1, m_max]\n",
    "      \n",
    "        # compute range of n\n",
    "        n_max_a = m - 1                   # n cannot be bigger than m (otherwise a would be negative)\n",
    "        n_max_c = (limit - m * m) ** 0.5  # n cannot be bigger than nmax_c (otherwise c would be negative)\n",
    "\n",
    "        n_max = min(n_max_a, n_max_c)\n",
    "        n_max = int(n_max)                # n_max must be an interger\n",
    "        \n",
    "        for n in range(1, n_max + 1):     # the range of n in [1, n_max]\n",
    "            \n",
    "            # compute the triplets\n",
    "            a = m * m - n * n\n",
    "            b = 2 * m * n\n",
    "            c = m * m + n * n\n",
    "            \n",
    "            # print result\n",
    "            print(a, b, c)\n",
    "```"
   ]
  },
  {
   "cell_type": "markdown",
   "metadata": {},
   "source": [
    "## Lists, dicts and others iterables\n",
    "--------------------------\n",
    "- Common types\n",
    "  - ****list**** : ```[a, b, c]```\n",
    "    - mutable\n",
    "    - indexable with integer\n",
    "    - initialization :\n",
    "        - ```l = [0] * n```\n",
    "        - ```l = [0 for i in range(n)]```\n",
    "    - operators\n",
    "      - concatenation : ```+```\n",
    "      - repetition : ```*```\n",
    "  - str : ```\"spam\" == 'spam' == \"\"\"spam\"\"\"```\n",
    "    - immutable\n",
    "    - indexable with integer\n",
    "    - can contains only decoded characters\n",
    "    - unicode par default\n",
    "    - operators\n",
    "      - concatenation : ```+```\n",
    "      - repetition : ```*```\n",
    "  - tuple : ```(a, b, c)```\n",
    "    - immutable\n",
    "    - indexable with integer\n",
    "    - parentheses optional ( ```a, b = c, d``` )\n",
    "  - set : ```{a, b, c}```\n",
    "    - mutable\n",
    "    - indexable with integer\n",
    "    - no duplicate\n",
    "    - can contains only immutables\n",
    "  - dict : ```{a:b, c:d}```\n",
    "    - mutable\n",
    "    - indexable with keys (here a and b)\n",
    "    - keys are unique and of immutable type\n",
    "    - no need to initialize before registering a value\n",
    "- Uncommon types\n",
    "  - frozenset\n",
    "    - immutable\n",
    "    - indexable with integer\n",
    "    - no duplicate\n",
    "    - can contains only immutables\n",
    "  - bytearray\n",
    "    - mutable\n",
    "    - indexable with integer\n",
    "    - can contains only encoded characters\n",
    "- Slicing \n",
    "  - ```A[1]``` : 2nd item\n",
    "  - ```A[-1]``` : last item\n",
    "  - ```A[4:8]``` : sublist\n",
    "  - ```A[4:8:2]``` : sublist by step of 2 (i.e. 5th and 7th item) \n",
    "- Methods\n",
    "  - ```len```\n",
    "  - ```append```\n",
    "  - ```sort``` / ```sorted```\n",
    "  - ...\n",
    "- Loop on iterable object\n",
    "  ```for i in [a, b, c]:```\n",
    "- Comprehension\n",
    "  ```[x**2 for x in range(10)]```\n",
    "- Generators / Iterator\n",
    "  - ```range```\n",
    "  - ```enumerate```\n",
    "  - ```zip```\n",
    "  - ```open(\"filename\")```\n",
    "  - ...\n",
    "\n",
    "### An example"
   ]
  },
  {
   "cell_type": "code",
   "execution_count": 13,
   "metadata": {},
   "outputs": [
    {
     "data": {
      "text/plain": [
       "[2, 3, 5, 7]"
      ]
     },
     "execution_count": 13,
     "metadata": {},
     "output_type": "execute_result"
    }
   ],
   "source": [
    "def slow_list_primes(n):\n",
    "    primes = []                      # empty list\n",
    "    for suspect in range(2, n + 1):\n",
    "        is_prime = True\n",
    "        for prime in primes:\n",
    "            if suspect % prime == 0:\n",
    "                is_prime = False                \n",
    "                break\n",
    "        if is_prime:\n",
    "            primes.append(suspect)   # add item in list\n",
    "    return primes\n",
    "\n",
    "slow_list_primes(10)"
   ]
  },
  {
   "cell_type": "markdown",
   "metadata": {},
   "source": [
    "### Exercise\n",
    "\n",
    "---\n",
    "\n",
    "The sieve of Eratosthenes is a ancient algorithm for finding all prime numbers up to a given limit $n$.\n",
    "\n",
    "![Animation of the sieve of Eratosthenes](images/Sieve_of_Eratosthenes.gif)\n",
    "\n",
    "The Eratosthenes' method is as follow:\n",
    "\n",
    "1) Consider a list of consecutive integers from 2 through $n$: (2, 3, 4, ..., $n$). Initially suppose they are all primes\n",
    "\n",
    "2) Let $p$ the first prime number of the list (initially $p=2$ the smallest prime number).\n",
    "   Enumerate the multiples of $p$ ($2p$, $3p$, $4p$, ....) until $n$ and mark them as 'not prime'\n",
    "\n",
    "3) Find the first number greater than $p$ in the list that is not marked 'not prime' (which is the next prime number after $p$) and repeat from strep 2)\n",
    "\n",
    "When the algorithm terminates, the numbers remaining not marked in the list are all the primes below $n$\n",
    "\n",
    "Define a function '''list_prime(n)''' who use the Erathosthenes' method to find all primes until $n$. Use a list of boolean indexed by 0:n to mark numbers. "
   ]
  },
  {
   "cell_type": "code",
   "execution_count": 14,
   "metadata": {
    "collapsed": true
   },
   "outputs": [],
   "source": [
    "#Exercise\n",
    "def list_primes(n):\n",
    "    \"\"\"\n",
    "    List all prime number below n\n",
    "    \"\"\"\n",
    "    #TODO\n",
    "    pass\n",
    "\n",
    "list_primes(20)"
   ]
  },
  {
   "cell_type": "markdown",
   "metadata": {},
   "source": [
    "<button data-toggle=\"collapse\" data-target=\"#eratosthenes\">Solution</button>\n",
    "\n",
    "<div id=\"eratosthenes\" class=\"collapse\">\n",
    "```python\n",
    "def iter_prime(n):\n",
    "    \"\"\"\n",
    "    Generator to list all prime number below n\n",
    "    \"\"\"\n",
    "    sieve = [False] * 2 + [True] * (n - 2)                      # list concatenation (+) and repeat (*n)\n",
    "    for prime, is_prime in enumerate(sieve):                    # iterate over the list\n",
    "        if is_prime:\n",
    "            yield prime                                         # return a generator\n",
    "            sieve[::prime] = [False for i in range(0,n,prime)]  # slicing to mark all mutliple\n",
    "            \n",
    "def list_primes(n):\n",
    "    \"\"\"\n",
    "    List of all prime number below n\n",
    "    \"\"\"\n",
    "    return list(iter_prime(n))                                  # parsing the generator into a list\n",
    "```"
   ]
  },
  {
   "cell_type": "code",
   "execution_count": 15,
   "metadata": {},
   "outputs": [
    {
     "name": "stdout",
     "output_type": "stream",
     "text": [
      "{} {}\n",
      "\n",
      "{'lastname': 'Gaston', 'firstname': 'Benoist'}\n",
      "{'lastname': 'Gaston', 'firstname': 'Benoist', 'birthday': (10, 27)}\n",
      "(10, 27)\n",
      "\n",
      "lastname\n",
      "firstname\n",
      "birthday\n",
      "\n",
      "Gaston\n",
      "Benoist\n",
      "(10, 27)\n",
      "\n",
      "lastname  :  Gaston\n",
      "firstname  :  Benoist\n",
      "birthday  :  (10, 27)\n"
     ]
    }
   ],
   "source": [
    "#define an empty dictonnary\n",
    "my_emptydict = dict()\n",
    "another_emptydict = {}\n",
    "print(my_emptydict, another_emptydict)\n",
    "print()\n",
    "\n",
    "# define a dictionnary with items\n",
    "personnal_information={\"lastname\":\"Gaston\", \"firstname\":\"Benoist\"}\n",
    "print(personnal_information)\n",
    "\n",
    "# add new item\n",
    "personnal_information[\"birthday\"] = (10, 27)\n",
    "print(personnal_information)\n",
    "print(personnal_information[\"birthday\"])\n",
    "print()\n",
    "\n",
    "# loop by key\n",
    "for key in personnal_information:\n",
    "    print(key)\n",
    "print()\n",
    "\n",
    "# loop by value\n",
    "for value in personnal_information.values():\n",
    "    print(value)\n",
    "print()\n",
    "\n",
    "# loop by items\n",
    "for key, value in personnal_information.items():\n",
    "    print(key, \" : \", value)"
   ]
  },
  {
   "cell_type": "markdown",
   "metadata": {},
   "source": [
    "## I/O\n",
    "- Generally : use dedicated packages (pillow for images, ...) -> ecosystem\n"
   ]
  },
  {
   "cell_type": "markdown",
   "metadata": {},
   "source": [
    "\n",
    "### Strings\n",
    "- String can be enclosed by single quotes ('...') or double (\"...\"). Use \\ for escape quote"
   ]
  },
  {
   "cell_type": "code",
   "execution_count": 16,
   "metadata": {
    "scrolled": true
   },
   "outputs": [
    {
     "name": "stdout",
     "output_type": "stream",
     "text": [
      "Être ange\n",
      "C'est étrange\n",
      "Dit l'ange\n"
     ]
    }
   ],
   "source": [
    "print('Être ange') #single quote\n",
    "print('C\\'est étrange') # escape the second single quote\n",
    "print(\"Dit l'ange\") # double quote enclosement single quote as a character"
   ]
  },
  {
   "cell_type": "markdown",
   "metadata": {},
   "source": [
    "- Strings can be concatenated by + operator and repeated by * operator"
   ]
  },
  {
   "cell_type": "code",
   "execution_count": 17,
   "metadata": {},
   "outputs": [
    {
     "name": "stdout",
     "output_type": "stream",
     "text": [
      "Hip Hip Hip Hourra\n",
      "This is a long string \n"
     ]
    }
   ],
   "source": [
    "print(3*'Hip '+'Hourra')\n",
    "\n",
    "a_long_string = (\"This is \"  # the + operator is optionnal here\n",
    "                 \"a long string \")\n",
    "print(a_long_string)"
   ]
  },
  {
   "cell_type": "markdown",
   "metadata": {},
   "source": [
    "- Mutilines strings"
   ]
  },
  {
   "cell_type": "code",
   "execution_count": 18,
   "metadata": {},
   "outputs": [
    {
     "name": "stdout",
     "output_type": "stream",
     "text": [
      "The two strings are identical\n",
      "\n",
      "Être âne\n",
      "C'est étrane\n",
      "Dit l'âne\n",
      "Être âne\n",
      "C'est étrane\n",
      "Dit l'âne\n"
     ]
    }
   ],
   "source": [
    "str1='Être âne\\nC\\'est étrane\\nDit l\\'âne'  # with explicit special character\n",
    "\n",
    "str2=\"\"\"Être âne\n",
    "C'est étrane\n",
    "Dit l'âne\"\"\" # with triple quotes\n",
    "\n",
    "if str1 == str2:\n",
    "    print(\"The two strings are identical\")\n",
    "else:\n",
    "    print(\"The two strings are different\")\n",
    "print()\n",
    "\n",
    "print(str1)\n",
    "print(str2) \n"
   ]
  },
  {
   "cell_type": "markdown",
   "metadata": {},
   "source": [
    "- formatting strings\n",
    "  - ```print(\"un nombre : %d\" % nombre)```\n",
    "  - ```print(\"un nombre : {:}\".format(nombre))```\n",
    "  - ```print(f\"un nombre : {nombre:}\")``` (only in Python 3.6)"
   ]
  },
  {
   "cell_type": "code",
   "execution_count": 19,
   "metadata": {},
   "outputs": [
    {
     "name": "stdout",
     "output_type": "stream",
     "text": [
      "       spam  | eggs  | bacon\n",
      "David:  0.0  |  1.0  |  5.0 \n",
      "John:   0.0  |  2.0  |  0.0 \n",
      "Paul:   1.5  |  0.0  |  0.0 \n"
     ]
    }
   ],
   "source": [
    "print(\"{:<6} {:^5} | {:^5} | {:^5}\".format(\"\", \"spam\", \"eggs\", \"bacon\"))\n",
    "\n",
    "format_array = \"{:<6} {:^5.1f} | {:^5.1f} | {:^5.1f}\"\n",
    "print(format_array.format(\"David:\", 0, 1, 5))\n",
    "print(format_array.format(\"John:\", 0, 2, 0))\n",
    "print(format_array.format(\"Paul:\", 1.5, 0, 0))\n"
   ]
  },
  {
   "cell_type": "markdown",
   "metadata": {},
   "source": [
    "### Ascii files\n",
    "**Always** decode in input  \n",
    "**Always** encode in output\n",
    "\n",
    "- read  "
   ]
  },
  {
   "cell_type": "code",
   "execution_count": 20,
   "metadata": {
    "scrolled": true
   },
   "outputs": [
    {
     "name": "stdout",
     "output_type": "stream",
     "text": [
      "['Notebooks', 'pour', 'la', 'formation', 'Python']\n",
      "['==================================']\n"
     ]
    }
   ],
   "source": [
    "for line in open(\"README.md\", encoding=\"utf-8\"):      # use of encoding strongly encouraged\n",
    "    print(line.split())"
   ]
  },
  {
   "cell_type": "markdown",
   "metadata": {},
   "source": [
    "- write"
   ]
  },
  {
   "cell_type": "code",
   "execution_count": 21,
   "metadata": {
    "collapsed": true
   },
   "outputs": [],
   "source": [
    "with open(\"output_filenamme\", 'w', encoding=\"utf-8\") as f:  # using context\n",
    "    f.write(\"{:>10} is formated text\".format(\"This\"))"
   ]
  },
  {
   "cell_type": "markdown",
   "metadata": {},
   "source": [
    "### Exercise\n",
    "A palindrome is a word (sequence of characters) which reads the same backward as forward, such as madam or radar.  \n",
    "Write the code who read lines in \"data/filein.txt\" and write in \"fileout.txt\" lines who are palindrom"
   ]
  },
  {
   "cell_type": "code",
   "execution_count": 22,
   "metadata": {
    "collapsed": true
   },
   "outputs": [],
   "source": [
    "# Exercise\n",
    "#TODO"
   ]
  },
  {
   "cell_type": "markdown",
   "metadata": {},
   "source": [
    "<button data-toggle=\"collapse\" data-target=\"#solution2\">Solution</button>\n",
    "\n",
    "<div id=\"solution2\" class=\"collapse\">\n",
    "``` python\n",
    "with open(\"fileout.txt\", \"w\", encoding=\"utf-8\") as file_out:\n",
    "    for line in open(\"data/filein.txt\", \"r\", encoding=\"utf-8\"):\n",
    "        if line[:-1] == line[-2::-1]:                           #  Ignore the \\n at the end of line\n",
    "            file_out.write(line)\n",
    "            print(line[:-1])\n",
    "```"
   ]
  },
  {
   "cell_type": "markdown",
   "metadata": {},
   "source": [
    "\n",
    "\n",
    "## Modules\n",
    "- ```import file``` in order to use content of file.py\n",
    "- if subfolders:\n",
    "    - ```__init__.py``` mandatory in dir (may be empty)\n",
    "    - ```import dir.file```in order to use content of dir/file.py\n",
    "- different way for import\n",
    "  - ```import package```  \n",
    "  then package.function()\n",
    "  - ```from package import function```  \n",
    "  then function()\n",
    "  - ```from package import *```  \n",
    "  then function()  \n",
    "  **avoid**\n",
    "  \n",
    "  \n",
    "- import involve execution!  \n",
    "  ```if __name__ == '__main__':```\n",
    "- can be imported\n",
    "  - each module in sys.path (alimenté par PYTHONPATH)\n",
    "  - each submodule (with spam.egg; import spam then egg in the directory spam)\n",
    "  \n",
    "  \n",
    "### stdlib preview\n",
    "- builtins     : automatically imported, contains basis (```int```, ```print()```, ...)\n",
    "- sys et os    : two common modules for read and manage code's environment\n",
    "- shutil       : file managment (copy, move, ...)\n",
    "- math / cmath : classic mathematical functions (real / complex)\n",
    "- copy         : particulary deepcopy\n",
    "- pathlib      : dedicated to pathfile managment (```directory / file``` better than ```directory + \"/\" + fichier```)\n",
    "- time\n",
    "- ..."
   ]
  },
  {
   "cell_type": "markdown",
   "metadata": {},
   "source": [
    "You're Ready to Pythonize!\n",
    "===========================\n",
    "\n",
    "## Some extra tips ...\n",
    "\n",
    "### Best practices\n",
    "The zen of Python"
   ]
  },
  {
   "cell_type": "code",
   "execution_count": 23,
   "metadata": {},
   "outputs": [
    {
     "name": "stdout",
     "output_type": "stream",
     "text": [
      "The Zen of Python, by Tim Peters\n",
      "\n",
      "Beautiful is better than ugly.\n",
      "Explicit is better than implicit.\n",
      "Simple is better than complex.\n",
      "Complex is better than complicated.\n",
      "Flat is better than nested.\n",
      "Sparse is better than dense.\n",
      "Readability counts.\n",
      "Special cases aren't special enough to break the rules.\n",
      "Although practicality beats purity.\n",
      "Errors should never pass silently.\n",
      "Unless explicitly silenced.\n",
      "In the face of ambiguity, refuse the temptation to guess.\n",
      "There should be one-- and preferably only one --obvious way to do it.\n",
      "Although that way may not be obvious at first unless you're Dutch.\n",
      "Now is better than never.\n",
      "Although never is often better than *right* now.\n",
      "If the implementation is hard to explain, it's a bad idea.\n",
      "If the implementation is easy to explain, it may be a good idea.\n",
      "Namespaces are one honking great idea -- let's do more of those!\n"
     ]
    }
   ],
   "source": [
    "import this # PEP 20"
   ]
  },
  {
   "cell_type": "markdown",
   "metadata": {},
   "source": [
    "- Respect [PEP 8](https://www.python.org/dev/peps/pep-0008/)\n",
    "- 4 spaces no tabs\n",
    "- use existant\n",
    "- wrong comments are worst than no comments, clear code is better than obscur code \n",
    "- use docstrings\n",
    "\n",
    "- [The Hitchhiker’s Guide to Python!](http://docs.python-guide.org/en/latest/)\n",
    "- http://www.scipy-lectures.org"
   ]
  },
  {
   "cell_type": "code",
   "execution_count": 24,
   "metadata": {},
   "outputs": [
    {
     "name": "stdout",
     "output_type": "stream",
     "text": [
      "['', '/opt/local/intel/intelpython3/envs/venv2/lib/python36.zip', '/opt/local/intel/intelpython3/envs/venv2/lib/python3.6', '/opt/local/intel/intelpython3/envs/venv2/lib/python3.6/lib-dynload', '/home/pouxa/.local/lib/python3.6/site-packages', '/opt/local/intel/intelpython3/envs/venv2/lib/python3.6/site-packages', '/opt/local/jupyter-fortran-kernel', '/opt/local/cling/cling_2018-02-23_ubuntu16/share/cling/Jupyter/kernel', '/opt/local/intel/intelpython3/envs/venv2/lib/python3.6/site-packages/html5lib-0.999999999-py3.6.egg', '/opt/local/intel/intelpython3/envs/venv2/lib/python3.6/site-packages/IPython/extensions', '/home/pouxa/.ipython']\n"
     ]
    }
   ],
   "source": [
    "from sys import path\n",
    "print(path)"
   ]
  },
  {
   "cell_type": "markdown",
   "metadata": {},
   "source": [
    "variables ++\n",
    "------------\n",
    "- shared references ![shared references image](images/reference.001.png)"
   ]
  },
  {
   "cell_type": "code",
   "execution_count": 25,
   "metadata": {},
   "outputs": [
    {
     "name": "stdout",
     "output_type": "stream",
     "text": [
      "2 2\n",
      "3 2\n",
      "[1, 2, 3] [1, 2, 3] [1, 2, 3]\n",
      "[1, 4, 3] [1, 4, 3] [1, 2, 3]\n"
     ]
    }
   ],
   "source": [
    "a = 2\n",
    "b = a\n",
    "print(a, b)\n",
    "a = 3\n",
    "print(a,b)\n",
    "l1 = [1, 2, 3]\n",
    "l2 = l1\n",
    "l3 = l1[:]\n",
    "print(l1, l2, l3)\n",
    "l1[1] = 4\n",
    "print(l1, l2, l3)"
   ]
  },
  {
   "cell_type": "markdown",
   "metadata": {},
   "source": [
    "- variable scopes\n",
    "  - **L**ocal\n",
    "  - **E**nglobante\n",
    "  - **G**lobal\n",
    "  - **I**mports\n",
    "- namespace\n",
    "  - function\n",
    "  - instance\n",
    "  - classe\n",
    "  - module\n",
    "- Multiple inheritance"
   ]
  },
  {
   "cell_type": "code",
   "execution_count": null,
   "metadata": {
    "collapsed": true
   },
   "outputs": [],
   "source": []
  }
 ],
 "metadata": {
  "kernelspec": {
   "display_name": "Python 3",
   "language": "python",
   "name": "python3"
  },
  "language_info": {
   "codemirror_mode": {
    "name": "ipython",
    "version": 3
   },
   "file_extension": ".py",
   "mimetype": "text/x-python",
   "name": "python",
   "nbconvert_exporter": "python",
   "pygments_lexer": "ipython3",
   "version": "3.6.3"
  }
 },
 "nbformat": 4,
 "nbformat_minor": 2
}
