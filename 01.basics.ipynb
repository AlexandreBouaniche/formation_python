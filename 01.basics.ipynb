{
 "cells": [
  {
   "cell_type": "markdown",
   "metadata": {},
   "source": [
    "# Basics\n",
    "## Overview\n",
    "### History\n",
    "\n",
    "- 1989: CWI : **Guido van Rossum**\n",
    "- 1991: First public release\n",
    "- 1995: CNRI\n",
    "- 1999: Computer Programming for Everybody (CNRI + DARPA) objectif : python pour l’**enseignement** de la programation\n",
    "- 2001: Python software fundation\n",
    "- 2008: version 3\n",
    "- 2013: widely use in post-graduate\n",
    "- 2018: 4th most popular language (behind Java, C and C++)\n",
    "- 2020: death of python 2.x?\n",
    "\n",
    "### Advantages of Python \n",
    "- **Batteries included**\n",
    "- **Easy to learn**\n",
    "- **Easy communication**\n",
    "- **Efficient code**\n",
    "- **Universal**\n",
    "\n",
    "### install\n",
    "- Windows : anaconda + conda + pip\n",
    "- linux : already install + apt + pip --user\n",
    "- mac : homebrew + brew python3 + pip --user\n",
    "\n",
    "### interface\n",
    "vim+terminal / IDLE / spyder / notebook\n",
    "\n",
    "### First examples\n",
    "#### Helloworld"
   ]
  },
  {
   "cell_type": "code",
   "execution_count": 1,
   "metadata": {},
   "outputs": [
    {
     "name": "stdout",
     "output_type": "stream",
     "text": [
      "Hello World !\n"
     ]
    }
   ],
   "source": [
    "print(\"Hello World !\")"
   ]
  },
  {
   "cell_type": "markdown",
   "metadata": {},
   "source": [
    "#### Arithmetic"
   ]
  },
  {
   "cell_type": "code",
   "execution_count": 2,
   "metadata": {},
   "outputs": [
    {
     "name": "stdout",
     "output_type": "stream",
     "text": [
      "6.5\n"
     ]
    }
   ],
   "source": [
    "print(2 + 3 * 9 / 6)"
   ]
  },
  {
   "cell_type": "markdown",
   "metadata": {},
   "source": [
    "As simple as that!\n",
    "\n",
    "### Syntax (cheatsheet)\n",
    "\n",
    "- Variables:\n",
    "  - name (identifier)\n",
    "    - combination of letters or digits or an underscore (_)\n",
    "    - cannot start with a digit\n",
    "    - case sensitive\n",
    "    - no keywords\n",
    "    - no operator symbol\n",
    "    - accented caracter allowed (but to avoid)\n",
    "  - dynamic type\n",
    "    - numericals type\n",
    "      - integer infinite precision\n",
    "      - float double precision\n",
    "      - complex\n",
    "    - iterables type\n",
    "      - tuple\n",
    "      - list\n",
    "      - set\n",
    "      - dist\n",
    "      - str\n",
    "      - frozenset\n",
    "      - bytarray\n",
    "- operators  \n",
    "  ``` + - * ** / // % = < > <= >= == != () {} [] ‘ \" @ . ```  \n",
    "- code block \n",
    "    - body of a function, loop, ... starts with indentation + \":\" and ends with unindented line (use ```pass``` for an empty block)\n",
    "- Commments\n",
    "    - use hash symbol (```#```) to start a comment \n",
    "- keywords:"
   ]
  },
  {
   "cell_type": "code",
   "execution_count": 3,
   "metadata": {},
   "outputs": [
    {
     "name": "stdout",
     "output_type": "stream",
     "text": [
      "['False', 'None', 'True', 'and', 'as', 'assert', 'break', 'class', 'continue', 'def', 'del', 'elif', 'else', 'except', 'finally', 'for', 'from', 'global', 'if', 'import', 'in', 'is', 'lambda', 'nonlocal', 'not', 'or', 'pass', 'raise', 'return', 'try', 'while', 'with', 'yield']\n"
     ]
    }
   ],
   "source": [
    "from keyword import kwlist\n",
    "print(kwlist)"
   ]
  },
  {
   "cell_type": "markdown",
   "metadata": {},
   "source": [
    "### vocabulary\n",
    "- *mutable / immutable* \n",
    "  a mutable object can be altered an immutable object can not    \n",
    "  obviously numerical object are immutable\n",
    "  \n",
    "  \n",
    "- *exception*  \n",
    "  wathever you do, python never crash (almost never)  \n",
    "  Errors detected during execution are called exceptions and you can handle them\n",
    "  \n",
    "  \n",
    "- shebang ``` #!/usr/bin/env python3 ```\n",
    "- encoding ``` # -*- coding: utf-8 -*- ```\n",
    "\n",
    "### Help\n",
    "\n",
    "- help\n",
    "- dir\n",
    "- internet\n",
    "  - docs.python.org\n",
    "  - stackoverflow\n",
    "  - reddit\n",
    "  - ...\n",
    "  \n",
    "### Some examples\n",
    "#### define functions "
   ]
  },
  {
   "cell_type": "code",
   "execution_count": 4,
   "metadata": {},
   "outputs": [
    {
     "name": "stdout",
     "output_type": "stream",
     "text": [
      "120\n"
     ]
    }
   ],
   "source": [
    "def factorial(n):                      # define a function with argument\n",
    "    if n < 2:                          # define a test\n",
    "        return 1                       #  value return\n",
    "    else:\n",
    "        return n * factorial(n - 1)    # recursion\n",
    "    \n",
    "res = factorial(5)                     #call the function\n",
    "print(res)"
   ]
  },
  {
   "cell_type": "code",
   "execution_count": 5,
   "metadata": {},
   "outputs": [
    {
     "name": "stdout",
     "output_type": "stream",
     "text": [
      "120\n"
     ]
    }
   ],
   "source": [
    "def factorial_five():                # function without argument\n",
    "    return factorial(5)\n",
    "\n",
    "res = factorial_five()\n",
    "print(res)"
   ]
  },
  {
   "cell_type": "markdown",
   "metadata": {},
   "source": [
    "#### `if` Statements\n",
    "\n",
    "```python\n",
    "True, False, and, or, not, ==, is, !=, is not, >, >=, <, <=\n",
    "```\n",
    "#### `while` loop\n",
    "```python\n",
    "i=0\n",
    "while i<4:\n",
    "    ...\n",
    "    i+=1\n",
    "```\n",
    "#### Loop over iterable object\n",
    "```python\n",
    "for i in [2,3,4]:\n",
    "    ...\n",
    "```"
   ]
  },
  {
   "cell_type": "code",
   "execution_count": 6,
   "metadata": {},
   "outputs": [
    {
     "name": "stdout",
     "output_type": "stream",
     "text": [
      "True\n",
      "True\n"
     ]
    }
   ],
   "source": [
    "def is_prime(num):\n",
    "    if num == 1:\n",
    "        return False\n",
    "    for i in range(2, int(num ** 0.5)+1):  # range(m,n) create [m,...,n-1]\n",
    "       if (num % i) == 0:\n",
    "          return False\n",
    "    return True\n",
    "\n",
    "def is_prime2(num):\n",
    "    if num == 1:\n",
    "        return False\n",
    "    i=2\n",
    "    while(i<int(num**0.5)+1):\n",
    "        if (num % i) == 0:\n",
    "            return False\n",
    "        i+=1\n",
    "    return True\n",
    "\n",
    "print(is_prime(7))                         # chain functions (f(g(...)))\n",
    "print(is_prime2(7))"
   ]
  },
  {
   "cell_type": "code",
   "execution_count": 7,
   "metadata": {},
   "outputs": [
    {
     "name": "stdout",
     "output_type": "stream",
     "text": [
      "49 343\n"
     ]
    }
   ],
   "source": [
    "def quadcube(x):\n",
    "    return x ** 2, x ** 3  # multiple returns\n",
    "\n",
    "x1, x2 = quadcube(7) #multiple assignment \n",
    "print(x1,x2)"
   ]
  },
  {
   "cell_type": "code",
   "execution_count": 10,
   "metadata": {},
   "outputs": [
    {
     "name": "stdout",
     "output_type": "stream",
     "text": [
      "(3.141592653589794, 4, 1.1102230246251565e-16)\n",
      "(3.141592653589794, 3, 8.242750926257258e-11)\n",
      "(3.141592646213543, 2, 2.3636176602614967e-05)\n"
     ]
    }
   ],
   "source": [
    "def compute_pi(err, nmax=float(\"inf\")):    #optional argument\n",
    "    n = 0\n",
    "    error = float(\"inf\")\n",
    "    \n",
    "    a_n = 1.\n",
    "    b_n = 2 ** -0.5\n",
    "    t = 0.25\n",
    "    while error > err and n < nmax:\n",
    "        a_np = 0.5 * (a_n + b_n)\n",
    "        b_np = (a_n * b_n) ** 0.5\n",
    "        t -= (2 ** n) * (a_n - a_np) ** 2  # substraction\n",
    "        \n",
    "        a_n, b_n = a_np, b_np              # double assigment\n",
    "        \n",
    "        error = abs(a_n - b_n)\n",
    "        n = n + 1\n",
    "        \n",
    "    pi = (a_n + b_n) ** 2 / (4 * t)\n",
    "    return pi, n, error\n",
    "\n",
    "print(compute_pi(1e-15))\n",
    "print(compute_pi(1e-15, 3))\n",
    "print(compute_pi(1e-15, nmax=2))"
   ]
  },
  {
   "cell_type": "markdown",
   "metadata": {},
   "source": [
    "Exercise\n",
    "A pythagorean triplet is a triplet of intergers $a$, $b$ and $c$ such that\n",
    "$a^2+b^2=c^2$\n",
    "\n",
    "For each pair of integers $m,n$ $a=m^2-n^2,b=2mn$ and $c=m^2+n^2$ is a pythagorean triplet\n",
    "\n",
    "Write a function ```pythagorean_triplet(limit)``` who compute all the triplet until a limit, i.e. $c<limit$. \n",
    "Tips : use the previous property and loop on $n$ and $m$. "
   ]
  },
  {
   "cell_type": "code",
   "execution_count": 11,
   "metadata": {},
   "outputs": [
    {
     "name": "stdout",
     "output_type": "stream",
     "text": [
      "Help on function pythagorean_triplets in module __main__:\n",
      "\n",
      "pythagorean_triplets(limit)\n",
      "    print all pythagorean triplets below a limit\n",
      "    \n",
      "    A pythagorean triplet is a triplet of integers a, b and c such that\n",
      "    a^2 + b^2 = c^2\n",
      "\n"
     ]
    }
   ],
   "source": [
    "def pythagorean_triplets(limit):\n",
    "    \"\"\" print all pythagorean triplets below a limit\n",
    "    \n",
    "    A pythagorean triplet is a triplet of integers a, b and c such that\n",
    "    a^2 + b^2 = c^2\n",
    "    \"\"\"                                       # use a docstring\n",
    "    #TODO\n",
    "    \n",
    "help(pythagorean_triplets)\n",
    "pythagorean_triplets(30)"
   ]
  },
  {
   "cell_type": "markdown",
   "metadata": {},
   "source": [
    "<button data-toggle=\"collapse\" data-target=\"#pythagore\">Solution</button>\n",
    "\n",
    "<div id=\"pythagore\" class=\"collapse\">\n",
    "```python\n",
    "def pythagorean_triplets(limit):\n",
    "    \"\"\" print all pythagorean triplets below a limit\n",
    "    \n",
    "    A pythagorean triplet is a triplet of integers a, b and c such that\n",
    "    a^2 + b^2 = c^2\n",
    "    \"\"\"                                       # use a docstring\n",
    "    c = 0\n",
    "    m = 2\n",
    "    while(c < limit):\n",
    "        tests = True\n",
    "        n = 0\n",
    "        while tests:\n",
    "            n +=1\n",
    "\n",
    "            a = m * m - n * n\n",
    "            b = 2 * m * n\n",
    "            c = m * m + n * n\n",
    "            \n",
    "            tests = a != 0 and b != 0 and 0 < c <= limit # double tests\n",
    "                    \n",
    "            if tests:\n",
    "                print(a, b, c)\n",
    "            tests = tests and n <= m\n",
    "            \n",
    "        m = m + 1\n",
    "        \n",
    "help(pythagorean_triplets)\n",
    "pythagorean_triplets(30)\n",
    "```"
   ]
  },
  {
   "cell_type": "markdown",
   "metadata": {},
   "source": [
    "## listes, dicts and others\n",
    "--------------------------\n",
    "- common types\n",
    "  - tuple : (a,b,c)\n",
    "    - immutable\n",
    "    - indexable with integer\n",
    "    - parentheses optional ( a,b = c,d )\n",
    "  - list : [a, b, c]\n",
    "    - mutable\n",
    "    - indexable with integer\n",
    "  - set : {a, b, c}\n",
    "    - mutable\n",
    "    - indexable with integer\n",
    "    - no duplicate\n",
    "  - dict : {a:b, c:d}\n",
    "    - mutable\n",
    "    - indexable with keys (here a and b)\n",
    "    - keys are unique and of immutable type\n",
    "  - str : \"spam\" == 'spam' == \"\"\"spam\"\"\"\n",
    "    - immutable\n",
    "    - indexable with integer\n",
    "    - can contains only decoded characters\n",
    "    - unicode par default\n",
    "- uncommon types\n",
    "  - frozenset\n",
    "    - immutable\n",
    "    - indexable with integer\n",
    "    - no duplicate\n",
    "  - bytearray\n",
    "    - mutable\n",
    "    - indexable with integer\n",
    "    - can contains only encoded characters\n",
    "- slicing \n",
    "  - A[1] : 2nd item\n",
    "  - A[-1] : last item\n",
    "  - A[4:8] : sublist\n",
    "  - A[4:8:2] : sublist by step of 2 (ie 5th and 7th item) \n",
    "- methods\n",
    "  - len\n",
    "  - append\n",
    "  - sort / sorted\n",
    "- Loop on iterable object\n",
    "  ```for i in [a,b,c]:```\n",
    "- comprehension\n",
    "  ```[x**2 for x in range(10)]```\n",
    "- generators / iterator\n",
    "  - range\n",
    "  - enumerate\n",
    "  - zip\n",
    "  - open(\"filename\")\n",
    "  - ...\n",
    "\n",
    "### Some examples"
   ]
  },
  {
   "cell_type": "code",
   "execution_count": 12,
   "metadata": {},
   "outputs": [
    {
     "data": {
      "text/plain": [
       "[2, 3, 5, 7]"
      ]
     },
     "execution_count": 12,
     "metadata": {},
     "output_type": "execute_result"
    }
   ],
   "source": [
    "def slow_list_primes(n):\n",
    "    primes = []                      # empty list\n",
    "    for suspect in range(2,n + 1):\n",
    "        is_prime = True\n",
    "        for prime in primes:\n",
    "            if suspect % prime == 0:\n",
    "                is_prime = False                \n",
    "                break\n",
    "        if is_prime:\n",
    "            primes.append(suspect)   # add item in list (slow)\n",
    "    return primes\n",
    "\n",
    "slow_list_primes(10)"
   ]
  },
  {
   "cell_type": "code",
   "execution_count": 13,
   "metadata": {},
   "outputs": [
    {
     "name": "stdout",
     "output_type": "stream",
     "text": [
      "{} {}\n",
      "{'lastname': 'Gaston', 'firstname': 'Benoist'}\n",
      "{'lastname': 'Gaston', 'firstname': 'Benoist', 'birthday': (10, 27)}\n",
      "(10, 27)\n",
      "lastname\n",
      "firstname\n",
      "birthday\n",
      "which key lastname\n",
      "which key firstname\n",
      "which key birthday\n",
      "kind of value: <class 'str'>\n",
      "kind of value: <class 'str'>\n",
      "kind of value: <class 'tuple'>\n"
     ]
    }
   ],
   "source": [
    "#define an empty dictonnary\n",
    "my_emptydict=dict()\n",
    "another_emptydict={}\n",
    "#\n",
    "print(my_emptydict,another_emptydict)\n",
    "# define a dictionnary with items\n",
    "personnal_information={\"lastname\":\"Gaston\",\"firstname\":\"Benoist\"}\n",
    "print(personnal_information)\n",
    "# add new item\n",
    "personnal_information[\"birthday\"]=(10,27)\n",
    "print(personnal_information)\n",
    "print(personnal_information[\"birthday\"])\n",
    "# loop by item\n",
    "for item in personnal_information:\n",
    "    print(item)\n",
    "# loop by key\n",
    "for key in personnal_information.keys():\n",
    "    print(\"which key\",key)\n",
    "# loop by value\n",
    "for value in personnal_information.values():\n",
    "    print(\"kind of value:\",type(value))"
   ]
  },
  {
   "cell_type": "markdown",
   "metadata": {},
   "source": [
    "## I/O\n",
    "- **Always** decode in input\n",
    "- **Always** encode in output\n",
    "- format\n",
    "  - ```print(\"un nombre : %d\" % nombre)```\n",
    "  - ```print(\"un nombre : {:}\".format(nombre))```\n",
    "  - ```print(f\"un nombre : {nombre:}\")``` (only in Python 3.6)\n",
    "- Generally : use dedicated packages (pillow for images, ...) -> ecosystem\n",
    "\n",
    "### Strings\n",
    "- String can be enclosed by single quotes ('...') or double (\"...\"). Use \\ for escape quote\n",
    "  "
   ]
  },
  {
   "cell_type": "code",
   "execution_count": 15,
   "metadata": {
    "scrolled": true
   },
   "outputs": [
    {
     "name": "stdout",
     "output_type": "stream",
     "text": [
      "Être ange\n",
      "C'est étrange\n",
      "Dit l'ange\n"
     ]
    }
   ],
   "source": [
    "print('Être ange') #single quote\n",
    "print('C\\'est étrange') # escape the second single quote\n",
    "print(\"Dit l'ange\") # double quote enclosement single quote as a character"
   ]
  },
  {
   "cell_type": "markdown",
   "metadata": {},
   "source": [
    "- Mutilines strings"
   ]
  },
  {
   "cell_type": "code",
   "execution_count": 29,
   "metadata": {},
   "outputs": [
    {
     "name": "stdout",
     "output_type": "stream",
     "text": [
      "Être âne\n",
      "C'est étrane\n",
      "Dit l'âne\n",
      "Être âne\n",
      "C'est étrane\n",
      "Dit l'âne\n"
     ]
    },
    {
     "data": {
      "text/plain": [
       "True"
      ]
     },
     "execution_count": 29,
     "metadata": {},
     "output_type": "execute_result"
    }
   ],
   "source": [
    "print('Être âne\\nC\\'est étrane\\nDit l\\'âne') #with explicit special character\n",
    "print(\"\"\"Être âne\n",
    "C'est étrane\n",
    "Dit l'âne\"\"\") # with triple quotes\n",
    "str1='Être âne\\nC\\'est étrane\\nDit l\\'âne'\n",
    "str2=\"\"\"Être âne\n",
    "C'est étrane\n",
    "Dit l'âne\"\"\"\n",
    "str1==str2"
   ]
  },
  {
   "cell_type": "markdown",
   "metadata": {},
   "source": [
    "- Strings can be concatenated by + operator and repeated by * operator"
   ]
  },
  {
   "cell_type": "code",
   "execution_count": 9,
   "metadata": {},
   "outputs": [
    {
     "name": "stdout",
     "output_type": "stream",
     "text": [
      "Hip Hip Hip Hourra\n"
     ]
    }
   ],
   "source": [
    "print(3*'Hip '+'Hourra')"
   ]
  },
  {
   "cell_type": "markdown",
   "metadata": {},
   "source": [
    "- Index and slicing"
   ]
  },
  {
   "cell_type": "code",
   "execution_count": 14,
   "metadata": {},
   "outputs": [
    {
     "name": "stdout",
     "output_type": "stream",
     "text": [
      "i\n",
      "u\n",
      "ing \n",
      "Flying Circ\n",
      "iylF\n",
      "sucriC gniylF\n"
     ]
    }
   ],
   "source": [
    "mystring=\"Flying Circus\"\n",
    "print(mystring[3])#from the left\n",
    "print(mystring[-2]) # from the right\n",
    "print(mystring[3:7]) # substring (7th excluded)\n",
    "print(mystring[:-2]) # ...\n",
    "print(mystring[3::-1]) # reverse order\n",
    "print(mystring[::-1]) # reversed"
   ]
  },
  {
   "cell_type": "markdown",
   "metadata": {},
   "source": [
    "- Immutable"
   ]
  },
  {
   "cell_type": "code",
   "execution_count": 15,
   "metadata": {
    "scrolled": true
   },
   "outputs": [
    {
     "ename": "TypeError",
     "evalue": "'str' object does not support item assignment",
     "output_type": "error",
     "traceback": [
      "\u001b[0;31m---------------------------------------------------------------------------\u001b[0m",
      "\u001b[0;31mTypeError\u001b[0m                                 Traceback (most recent call last)",
      "\u001b[0;32m<ipython-input-15-9d7e9277f37e>\u001b[0m in \u001b[0;36m<module>\u001b[0;34m()\u001b[0m\n\u001b[0;32m----> 1\u001b[0;31m \u001b[0mmystring\u001b[0m\u001b[0;34m[\u001b[0m\u001b[0;36m3\u001b[0m\u001b[0;34m]\u001b[0m\u001b[0;34m=\u001b[0m\u001b[0;34m'G'\u001b[0m\u001b[0;34m\u001b[0m\u001b[0m\n\u001b[0m",
      "\u001b[0;31mTypeError\u001b[0m: 'str' object does not support item assignment"
     ]
    }
   ],
   "source": [
    "mystring[3]='G'"
   ]
  },
  {
   "cell_type": "markdown",
   "metadata": {},
   "source": [
    "### Ascii files\n",
    "- read"
   ]
  },
  {
   "cell_type": "code",
   "execution_count": 12,
   "metadata": {
    "scrolled": true
   },
   "outputs": [
    {
     "name": "stdout",
     "output_type": "stream",
     "text": [
      "['#', 'formation_python']\n"
     ]
    }
   ],
   "source": [
    "for line in open(\"README.md\", encoding=\"utf-8\"):      # use of encoding strongly encouraged\n",
    "    print(line.split())"
   ]
  },
  {
   "cell_type": "markdown",
   "metadata": {},
   "source": [
    "- write"
   ]
  },
  {
   "cell_type": "code",
   "execution_count": 13,
   "metadata": {},
   "outputs": [],
   "source": [
    "with open(\"output_filenamme\", 'w', encoding=\"utf-8\") as f:  # utilisation d'un contexte\n",
    "    f.write(\"{:>10} est du texte formaté\".format(\"ceci\"))"
   ]
  },
  {
   "cell_type": "markdown",
   "metadata": {},
   "source": [
    "### Exercise\n",
    "A palindrome is a word (sequence of characters) which reads the same backward as forward, such as madam or radar.\n",
    "Write the code who read lines in \"filein.txt\" and write in \"fileout.txt\" lines who are palindrom"
   ]
  },
  {
   "cell_type": "code",
   "execution_count": 21,
   "metadata": {},
   "outputs": [],
   "source": [
    "# exo\n",
    "#TODO"
   ]
  },
  {
   "cell_type": "markdown",
   "metadata": {},
   "source": [
    "<button data-toggle=\"collapse\" data-target=\"#solution2\">Solution</button>\n",
    "\n",
    "<div id=\"solution2\" class=\"collapse\">\n",
    "``` python\n",
    "# exo\n",
    "fout=open(\"fileout.txt\",\"w\",encoding=\"utf-8\")\n",
    "fin=open(\"filein.txt\",\"r\",encoding=\"utf-8\")\n",
    "for line in fin:\n",
    "    s=line.splitlines()[0]\n",
    "    if s==s[::-1]:\n",
    "        fout.write(s+\"\\n\")\n",
    "fin.close()\n",
    "fout.close()\n",
    "```"
   ]
  },
  {
   "cell_type": "markdown",
   "metadata": {},
   "source": [
    "You're Ready to Pythonize!\n",
    "===========================\n",
    "\n",
    "## Some extra tips ...\n",
    "\n",
    "### Modules\n",
    "- ```__init__.py```\n",
    "- different way for import\n",
    "  - ```import package```  \n",
    "  then package.function()\n",
    "  - ```from package import function```  \n",
    "  then function()\n",
    "  - ```from package import *```  \n",
    "  then function()  \n",
    "  to avoid\n",
    "  \n",
    "  \n",
    "- import involve execution!  \n",
    "  ```if __name__ == '__main__'```\n",
    "- can be imported\n",
    "  - each module in sys.path (alimenté par PYTHONPATH)\n",
    "  - each submodule (with spam.egg; import spam then egg in the directory spam)"
   ]
  },
  {
   "cell_type": "code",
   "execution_count": 1,
   "metadata": {},
   "outputs": [
    {
     "name": "stdout",
     "output_type": "stream",
     "text": [
      "['', '/usr/local/Cellar/python3/3.6.4_2/Frameworks/Python.framework/Versions/3.6/lib/python36.zip', '/usr/local/Cellar/python3/3.6.4_2/Frameworks/Python.framework/Versions/3.6/lib/python3.6', '/usr/local/Cellar/python3/3.6.4_2/Frameworks/Python.framework/Versions/3.6/lib/python3.6/lib-dynload', '/usr/local/lib/python3.6/site-packages', '/usr/local/lib/python3.6/site-packages/IPython/extensions', '/Users/bgaston/.ipython']\n"
     ]
    }
   ],
   "source": [
    "from sys import path\n",
    "print(path)"
   ]
  },
  {
   "cell_type": "markdown",
   "metadata": {},
   "source": [
    "### stdlib preview\n",
    "- builtins     : automatically import, contains basis (int, print(), ...)\n",
    "- sys et os    : two common modules for read and manage code's environment\n",
    "- shutil       : file managment (copy, rename, ...)\n",
    "- math / cmath : classic mathematical functions (real/complex)\n",
    "- copy         : particulary deepcopy\n",
    "- pathlib      : dedicated to pathfile managment (directory / file better than directory + \"/\" + fichier)\n",
    "- time\n",
    "- ...\n",
    "\n",
    "### Classes (light)\n",
    "**In Python EVERYTHING is an object**"
   ]
  },
  {
   "cell_type": "code",
   "execution_count": 16,
   "metadata": {
    "scrolled": true
   },
   "outputs": [
    {
     "name": "stdout",
     "output_type": "stream",
     "text": [
      "value\n",
      "bidule\n",
      "bidule\n"
     ]
    }
   ],
   "source": [
    "class simple(object):                         # all object herits from object\n",
    "  def __init__(self, attribut=\"value\"):       # constructor\n",
    "    self.attribut = attribut                  # good way to define attribut\n",
    "    \n",
    "  def get_attribut(self):                     \n",
    "    return self.attribut\n",
    "\n",
    "truc = simple()\n",
    "chose = simple(\"bidule\")\n",
    "\n",
    "print(truc.attribut)\n",
    "print(chose.attribut)\n",
    "print(chose.get_attribut())"
   ]
  },
  {
   "cell_type": "markdown",
   "metadata": {},
   "source": [
    "- Special Methods\n",
    "  - ```__init__```\n",
    "  - ```__del__```\n",
    "  - ```__str__``` and ```__repr__```\n",
    "  - operators ```__mul__``` ...\n",
    "  - ...\n",
    "  \n",
    "variables ++\n",
    "------------\n",
    "- shared references\n",
    "![alt text](reference.001.png)"
   ]
  },
  {
   "cell_type": "code",
   "execution_count": 9,
   "metadata": {},
   "outputs": [
    {
     "name": "stdout",
     "output_type": "stream",
     "text": [
      "2 2\n",
      "3 2\n",
      "[1, 2, 3] [1, 2, 3] [1, 2, 3]\n",
      "[1, 4, 3] [1, 4, 3] [1, 2, 3]\n"
     ]
    }
   ],
   "source": [
    "a=2\n",
    "b=a\n",
    "print(a,b)\n",
    "a=3\n",
    "print(a,b)\n",
    "l1=[1,2,3]\n",
    "l2=l1\n",
    "l3=l1[:]\n",
    "print(l1,l2,l3)\n",
    "l1[1]=4\n",
    "print(l1,l2,l3)"
   ]
  },
  {
   "cell_type": "markdown",
   "metadata": {},
   "source": [
    "- variable scopes\n",
    "  - **L**ocal\n",
    "  - **E**nglobante\n",
    "  - **G**lobal\n",
    "  - **I**mports\n",
    "- namespace\n",
    "  - function\n",
    "  - instance\n",
    "  - classe\n",
    "  - module\n",
    "- Multiple inheritance\n",
    "\n",
    "## Best practices\n",
    "The zen of Python"
   ]
  },
  {
   "cell_type": "code",
   "execution_count": 17,
   "metadata": {},
   "outputs": [
    {
     "name": "stdout",
     "output_type": "stream",
     "text": [
      "The Zen of Python, by Tim Peters\n",
      "\n",
      "Beautiful is better than ugly.\n",
      "Explicit is better than implicit.\n",
      "Simple is better than complex.\n",
      "Complex is better than complicated.\n",
      "Flat is better than nested.\n",
      "Sparse is better than dense.\n",
      "Readability counts.\n",
      "Special cases aren't special enough to break the rules.\n",
      "Although practicality beats purity.\n",
      "Errors should never pass silently.\n",
      "Unless explicitly silenced.\n",
      "In the face of ambiguity, refuse the temptation to guess.\n",
      "There should be one-- and preferably only one --obvious way to do it.\n",
      "Although that way may not be obvious at first unless you're Dutch.\n",
      "Now is better than never.\n",
      "Although never is often better than *right* now.\n",
      "If the implementation is hard to explain, it's a bad idea.\n",
      "If the implementation is easy to explain, it may be a good idea.\n",
      "Namespaces are one honking great idea -- let's do more of those!\n"
     ]
    }
   ],
   "source": [
    "import this # PEP 20"
   ]
  },
  {
   "cell_type": "markdown",
   "metadata": {},
   "source": [
    "- Respect [PEP 8](https://www.python.org/dev/peps/pep-0008/)\n",
    "- 4 spaces no tabs\n",
    "- use existant\n",
    "- wrong comments are worst than no comments, clear code is better than obscur code \n",
    "- use docstrings\n",
    "\n",
    "- [The Hitchhiker’s Guide to Python!](http://docs.python-guide.org/en/latest/)\n",
    "- http://www.scipy-lectures.org"
   ]
  },
  {
   "cell_type": "code",
   "execution_count": null,
   "metadata": {},
   "outputs": [],
   "source": []
  }
 ],
 "metadata": {
  "kernelspec": {
   "display_name": "Python 3",
   "language": "python",
   "name": "python3"
  },
  "language_info": {
   "codemirror_mode": {
    "name": "ipython",
    "version": 3
   },
   "file_extension": ".py",
   "mimetype": "text/x-python",
   "name": "python",
   "nbconvert_exporter": "python",
   "pygments_lexer": "ipython3",
   "version": "3.6.4"
  }
 },
 "nbformat": 4,
 "nbformat_minor": 1
}
