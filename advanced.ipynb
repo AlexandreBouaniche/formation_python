{
 "cells": [
  {
   "cell_type": "markdown",
   "metadata": {},
   "source": [
    "Avancé\n",
    "======\n",
    "\n",
    "Pratique\n",
    "--------\n",
    "- underscore\n",
    "  - separator in number ``` 10_000 ``` (only python 3.6)\n",
    "  - last result in the interpreter ``` _ ```\n",
    "  - I don't care ``` _ = f() ``` (dangerous with internationnaization)\n",
    "  - weakly private ``` _something ``` (won't be imported with ```import *```)\n",
    "  - avoid conflict ``` list_ ```\n",
    "  - more private (mangled) ```__stuff```\n",
    "  - magic methods (also mangled) ``` __init__```\n",
    "  - for internationnalization ```_()```\n",
    "- Tests faux\n",
    "  - ```None```\n",
    "  - ```0```\n",
    "  - ```__nonzero__()```\n",
    "  - ```__len__()```\n",
    "- a is b : a et b pointent vers le même objet\n",
    "- unpacking dans les boucles \n",
    "  - zip ``` for i, j in zip(list1,list2):```\n",
    "  - enumerate ``` for index, elem in enumerate(list1):```\n",
    "- utiliser collections.defaultdict(list) pour initialiser un dictionnaire de listes\n",
    "- utiliser des exceptions\n",
    "    - try is very fast but except is very slow\n",
    "    - permet de sortir de plusieurs boucles/fonctions en même temps\n",
    "    - permet d'être sûr qu'une erreur est traitée (ou explicitement ignorée)\n",
    "- **never** use a mutable optionnal arg\n",
    "- use a shallow copy to modify a list in a loop (or be very carefull"
   ]
  },
  {
   "cell_type": "code",
   "execution_count": 1,
   "metadata": {},
   "outputs": [
    {
     "name": "stdout",
     "output_type": "stream",
     "text": [
      "{'einstein', 'curie'}\n"
     ]
    }
   ],
   "source": [
    "from copy import copy\n",
    "ensemble={\"einstein\", \"albert\", \"curie\"}\n",
    "for valeur in copy(ensemble):\n",
    "    if 'bert' in valeur:\n",
    "        ensemble.discard(valeur)\n",
    "print(ensemble)"
   ]
  },
  {
   "cell_type": "markdown",
   "metadata": {},
   "source": [
    "- mecanisme d'import\n",
    "  - Chercher si le module existe.\n",
    "  - Chercher si le module a déjà été importé. Si oui, s’arrêter ici\n",
    "  - Si non, chercher si il a été déjà compilé en .pyc.\n",
    "  - Si ce n’est pas le cas, compiler le fichier .py en .pyc.\n",
    "  - Executer le module \n",
    "- se tenir informer de l'évolution du langage (PEP)\n",
    "- utilisation de décorateur\n",
    "  - deboggage, timing, ..."
   ]
  },
  {
   "cell_type": "code",
   "execution_count": 2,
   "metadata": {},
   "outputs": [],
   "source": [
    "from functools import wraps\n",
    "\n",
    "def PrintAppel(f):\n",
    "    def avant_f():\n",
    "        new_f.NbAppels += 1\n",
    "        print(\"On rentre dans {}\".format(f.__name__))\n",
    "        \n",
    "    def apres_f():\n",
    "        print(\"On sort de {}\".format(f.__name__))\n",
    "        print(\"Il s'agissait du {}eme appel\".format(new_f.NbAppels))\n",
    "    \n",
    "    @wraps(f)\n",
    "    def new_f(*args, **xargs):\n",
    "        avant_f()\n",
    "        res = f(*args, **xargs)\n",
    "        apres_f()\n",
    "        return res\n",
    "    \n",
    "    new_f.NbAppels = 0\n",
    "    \n",
    "    return new_f\n"
   ]
  },
  {
   "cell_type": "code",
   "execution_count": 3,
   "metadata": {},
   "outputs": [],
   "source": [
    "@PrintAppel\n",
    "def une_functon(x):\n",
    "  return 2*x"
   ]
  },
  {
   "cell_type": "code",
   "execution_count": 4,
   "metadata": {},
   "outputs": [
    {
     "name": "stdout",
     "output_type": "stream",
     "text": [
      "On rentre dans une_functon\n",
      "On sort de une_functon\n",
      "Il s'agissait du 1eme appel\n"
     ]
    },
    {
     "data": {
      "text/plain": [
       "4"
      ]
     },
     "execution_count": 4,
     "metadata": {},
     "output_type": "execute_result"
    }
   ],
   "source": [
    "une_functon(2)"
   ]
  },
  {
   "cell_type": "markdown",
   "metadata": {},
   "source": [
    "- Utiliser des classes pour isoler vos operations"
   ]
  },
  {
   "cell_type": "code",
   "execution_count": 5,
   "metadata": {},
   "outputs": [
    {
     "name": "stdout",
     "output_type": "stream",
     "text": [
      "Oeuf au plat :  Sur 6 oeufs, j'en possède 1\n",
      "Omelette     :  Sur 6 oeufs, j'en possède 3\n",
      "Crepes       :  Sur 6 oeufs, j'en possède 2\n",
      "egg          :   NaN | 6\n",
      "oeuf_au_plat :     1 | 6\n",
      "omelette     :     3 | 6\n",
      "crepe        :     2 | 6\n",
      "egg          :   NaN | 3\n",
      "oeuf_au_plat :     1 | 3\n",
      "crepe        :     2 | 3\n",
      "Help on class egg in module __main__:\n",
      "\n",
      "class egg(builtins.object)\n",
      " |  Full exemple of a class in python\n",
      " |  \n",
      " |  Methods defined here:\n",
      " |  \n",
      " |  __del__(self)\n",
      " |      destructor\n",
      " |  \n",
      " |  __init__(self, number=1)\n",
      " |      constructor from number\n",
      " |  \n",
      " |  __str__(self)\n",
      " |      Permet d'imprimer l'instance\n",
      " |  \n",
      " |  combien(self)\n",
      " |      Retourne le nombre d'oeufs dans l'instance\n",
      " |  \n",
      " |  ----------------------------------------------------------------------\n",
      " |  Class methods defined here:\n",
      " |  \n",
      " |  depuis_recette(ingredients) from builtins.type\n",
      " |      constructor from recepee\n",
      " |  \n",
      " |  ----------------------------------------------------------------------\n",
      " |  Static methods defined here:\n",
      " |  \n",
      " |  combien_egg()\n",
      " |      Retourne le nombre d'oeufs au total\n",
      " |  \n",
      " |  ----------------------------------------------------------------------\n",
      " |  Data descriptors defined here:\n",
      " |  \n",
      " |  __dict__\n",
      " |      dictionary for instance variables (if defined)\n",
      " |  \n",
      " |  __weakref__\n",
      " |      list of weak references to the object (if defined)\n",
      " |  \n",
      " |  ----------------------------------------------------------------------\n",
      " |  Data and other attributes defined here:\n",
      " |  \n",
      " |  total_number = 0\n",
      "\n"
     ]
    }
   ],
   "source": [
    "class egg(object):                            # Tous les objets dérivent d'object\n",
    "  \"\"\" Full exemple of a class in python \"\"\"\n",
    "  total_number = 0                            # attribut partagé par toutes les instance **DANGER** ! \n",
    "  \n",
    "  def __init__(self, number=1):               # constructeur\n",
    "    \"\"\" constructor from number \"\"\"\n",
    "    self.number = number                      # Bonne facon de définir les attributs\n",
    "    egg.total_number += number\n",
    "    \n",
    "  @classmethod\n",
    "  def depuis_recette(cls, ingredients):       # constructeur alternatif (rare)\n",
    "    \"\"\" constructor from recepee \"\"\"\n",
    "    return cls(ingredients[\"oeufs\"])\n",
    "    \n",
    "  def __del__(self):                          # destructeur (rare)\n",
    "    \"\"\" destructor \"\"\"\n",
    "    egg.total_number -= self.number\n",
    "\n",
    "  def __str__(self):                          # permet d'imprimer l'instance\n",
    "    \"\"\" Permet d'imprimer l'instance \"\"\"\n",
    "    return \"Sur {} oeufs, j'en possède {}\".format(egg.total_number, self.number)\n",
    "        \n",
    "  def combien(self):                          # fonction normale de l'instance\n",
    "    \"\"\" Retourne le nombre d'oeufs dans l'instance \"\"\"\n",
    "    return self.number\n",
    "\n",
    "  @staticmethod\n",
    "  def combien_egg():                          # fonction de l'objet (rare)\n",
    "    \"\"\" Retourne le nombre d'oeufs au total \"\"\"\n",
    "    return egg.total_number\n",
    "\n",
    "oeuf_au_plat = egg()\n",
    "omelette=egg(3)\n",
    "recette_crepes={\"oeufs\":2, \"lait\":0.5, \"farine\":300}\n",
    "crepe = egg.depuis_recette(recette_crepes)\n",
    "print(\"Oeuf au plat : \", oeuf_au_plat)\n",
    "print(\"Omelette     : \", omelette)\n",
    "print(\"Crepes       : \", crepe)\n",
    "\n",
    "print(\"{:<12} : {:>5} | {}\".format(\"egg\",\"NaN\", egg.combien_egg()))\n",
    "print(\"{:<12} : {:>5} | {}\".format(\"oeuf_au_plat\",oeuf_au_plat.combien(), oeuf_au_plat.combien_egg()))\n",
    "print(\"{:<12} : {:>5} | {}\".format(\"omelette\",omelette.combien(), omelette.combien_egg()))\n",
    "print(\"{:<12} : {:>5} | {}\".format(\"crepe\",crepe.combien(), crepe.combien_egg()))\n",
    "del omelette\n",
    "print(\"{:<12} : {:>5} | {}\".format(\"egg\",\"NaN\", egg.combien_egg()))\n",
    "print(\"{:<12} : {:>5} | {}\".format(\"oeuf_au_plat\",oeuf_au_plat.combien(), oeuf_au_plat.combien_egg()))\n",
    "print(\"{:<12} : {:>5} | {}\".format(\"crepe\",crepe.combien(), crepe.combien_egg()))\n",
    "del oeuf_au_plat\n",
    "del crepe\n",
    "\n",
    "help(egg)"
   ]
  },
  {
   "cell_type": "markdown",
   "metadata": {},
   "source": [
    "- pour lancer des programes externes, utiliser\n",
    "  - ```subprocess.check_call([\"cmd\", \"arg1\", \"arg2\"])``` si la sortie du programme ne vous interesse pas\n",
    "  - ```data = subprocess.check_output([\"cmd\", \"arg1\", \"arg2\"])``` sinon (penser a decoder)\n"
   ]
  },
  {
   "cell_type": "code",
   "execution_count": 6,
   "metadata": {},
   "outputs": [
    {
     "name": "stdout",
     "output_type": "stream",
     "text": [
      "total 1988\n",
      "-rw-rw-r-- 1 pouxa pouxa   54049 févr.  1 14:02 advanced.ipynb\n",
      "-rw-rw-r-- 1 pouxa pouxa    2258 janv. 30 09:37 advanced.md\n",
      "-rw-rw-r-- 1 pouxa pouxa   25269 janv. 31 13:53 basics.ipynb\n",
      "-rw-rw-r-- 1 pouxa pouxa   10336 févr.  1 14:02 basics.md\n",
      "-rw-rw-r-- 1 pouxa pouxa 1618906 janv. 30 18:07 ecosystem.ipynb\n",
      "-rw-rw-r-- 1 pouxa pouxa    8363 janv. 31 09:01 ecosystem.md\n",
      "-rw-rw-r-- 1 pouxa pouxa    2272 févr.  1 11:56 fortranModule.f90\n",
      "-rw-rw-r-- 1 pouxa pouxa   35147 janv. 19 10:25 LICENSE\n",
      "-rwxrwxr-x 1 pouxa pouxa  127296 févr.  1 11:56 \u001b[0m\u001b[01;32mmonModuleFortran.cpython-35m-x86_64-linux-gnu.so\u001b[0m\n",
      "-rw-rw-r-- 1 pouxa pouxa     525 janv. 30 14:54 populations.txt\n",
      "-rw-rw-r-- 1 pouxa pouxa      18 janv. 19 10:25 README.md\n",
      "-rw-rw-r-- 1 pouxa pouxa  108460 févr.  1 11:09 test.log\n",
      "drwxrwxr-x 7 pouxa pouxa    4096 janv. 31 15:25 \u001b[01;34mvenv\u001b[0m\n",
      "\n"
     ]
    }
   ],
   "source": [
    "import subprocess\n",
    "data = subprocess.check_output([\"ls\", \"-l\", \"--color\"]).decode('utf-8')\n",
    "print(data)"
   ]
  },
  {
   "cell_type": "markdown",
   "metadata": {},
   "source": [
    "Packaging\n",
    "---------\n",
    "- respecter la PEP (not only for prettyness)\n",
    "- type hinting (tout nouveau)\n",
    "  - ca ne change (presque) rien à l'éxecution\n",
    "  - mypy (et de plus en plus d'IDE) permettent de verifier\n",
    "  - le module typing permet de définir des types\n",
    "  - de plus en plus de paquet les definissent"
   ]
  },
  {
   "cell_type": "code",
   "execution_count": 7,
   "metadata": {},
   "outputs": [],
   "source": [
    "def greeting(name: str) -> str:\n",
    "    var = \"Hello\"  # type: str\n",
    "    # python 3.7 : var = \"Hello\" : str\n",
    "    \n",
    "    return var + \" \" + name"
   ]
  },
  {
   "cell_type": "markdown",
   "metadata": {},
   "source": [
    "- docstring (auto-documentation)\n",
    "  - toutes les fonctions\n",
    "  - toutes les classes\n",
    "  - tous les modules (```__init__.py```)\n",
    "  - tous les fichiers\n",
    "- pytest  (unit-testing)\n",
    "  - auto discovery (use tests folders, test_truc function, and TestMachin classes)\n",
    "  - allow parametrization"
   ]
  },
  {
   "cell_type": "code",
   "execution_count": 8,
   "metadata": {},
   "outputs": [],
   "source": [
    "#ONLY for ipython\n",
    "import ipytest.magics\n",
    "import pytest\n",
    "__file__ = 'advanced.ipynb'"
   ]
  },
  {
   "cell_type": "code",
   "execution_count": 9,
   "metadata": {},
   "outputs": [
    {
     "name": "stdout",
     "output_type": "stream",
     "text": [
      "...                                                                                                           [100%]\n"
     ]
    }
   ],
   "source": [
    "%%run_pytest[clean] -qq\n",
    "#this was only for ipython\n",
    "\n",
    "def test_sorted():\n",
    "    assert sorted([5, 1, 4, 2, 3]) == [1, 2, 3, 4, 5]\n",
    "    \n",
    "# as does parametrize\n",
    "@pytest.mark.parametrize('input,expected', [\n",
    "                                            ([2, 1], [1, 2]),\n",
    "                                            ('zasdqw', list('adqswz')),\n",
    "                                            ]\n",
    "                         )\n",
    "def test_examples(input, expected):\n",
    "    actual = sorted(input)\n",
    "    assert actual == expected"
   ]
  },
  {
   "cell_type": "markdown",
   "metadata": {},
   "source": [
    "- gettext (auto-internationnalization) ?\n",
    "- logging\n",
    "  - print -> go to console (for ordinary usage)\n",
    "  - warning.warn -> go to console (usually once : for signaling a something the user should fix)\n",
    "  - logging.level -> go anywhere you want (for detailled output and/or diagnostic)"
   ]
  },
  {
   "cell_type": "code",
   "execution_count": 10,
   "metadata": {},
   "outputs": [
    {
     "name": "stderr",
     "output_type": "stream",
     "text": [
      "advanced.ipynb:55: UserWarning: A warning printed once\n",
      "  \"metadata\": {},\n",
      "2018-02-01 14:03:18,598 [MainThread  ] [WARNI]  There is only 2 record !\n",
      "2018-02-01 14:03:18,599 [MainThread  ] [ERROR]  Something happend, impossible to save the records\n",
      "2018-02-01 14:03:18,599 [MainThread  ] [CRITI]  Database corrupted !\n"
     ]
    }
   ],
   "source": [
    "import logging\n",
    "import warnings\n",
    "\n",
    "\n",
    "def prepare_logging():\n",
    "    \"\"\"\n",
    "    Prepare all logging facilities\n",
    "    \n",
    "    This should be done in a separate module\n",
    "    \"\"\"\n",
    "\n",
    "    # if not already done, initialize logging facilities\n",
    "    logging.basicConfig()\n",
    "\n",
    "    # create a logger for the current module\n",
    "    logger = logging.getLogger(__name__)\n",
    "\n",
    "    ## ONLY FOR IPYTHON\n",
    "    # clean logger (ipython + multiple call)\n",
    "    from copy import copy\n",
    "    for handler in copy(logger.handlers):\n",
    "        logger.removeHandler(handler)\n",
    "    # Do not give propagate message to ipython (or else thy will be printed twice)\n",
    "    logger.propagate=False\n",
    "    ## ONLY FOR IPYTHON\n",
    "\n",
    "\n",
    "    # optionnal : change format of the log\n",
    "    logFormatter = logging.Formatter(\"%(asctime)s [%(threadName)-12.12s] [%(levelname)-5.5s]  %(message)s\")\n",
    "\n",
    "    # optionnal : create a handler for file output\n",
    "    fileHandler = logging.FileHandler(\"{logPath}/{fileName}.log\".format(logPath=\".\", fileName=\"test\"))\n",
    "    # optionnal : create a handler for console output\n",
    "    consoleHandler = logging.StreamHandler()\n",
    "\n",
    "    # optionnal : Apply formatter to both handles\n",
    "    fileHandler.setFormatter(logFormatter)\n",
    "    consoleHandler.setFormatter(logFormatter)\n",
    "\n",
    "    # optionnal : attach handler to the logger\n",
    "    logger.addHandler(fileHandler)\n",
    "    logger.addHandler(consoleHandler)\n",
    "\n",
    "    # what severity to log (default is NOTSET, i.e. all)\n",
    "    logger.setLevel(logging.DEBUG)            # ALL\n",
    "    fileHandler.setLevel(logging.INFO)        # NO DEBUG\n",
    "    consoleHandler.setLevel(logging.WARNING)  # ONLY WARNING AND ERRORS\n",
    "\n",
    "    return logger\n",
    "    \n",
    "    \n",
    "logger = prepare_logging()\n",
    "\n",
    "def egg():\n",
    "    warnings.warn(\"A warning printed once\")\n",
    "\n",
    "egg()\n",
    "    \n",
    "logger.info('Start reading database')\n",
    "\n",
    "records = {'john': 55, 'tom': 66}\n",
    "\n",
    "logger.debug('Records: {}'.format(records))\n",
    "logger.info('Updating records ...')\n",
    "logger.warning(\"There is only 2 record !\")\n",
    "logger.info('Saving records ...')\n",
    "logger.error(\"Something happend, impossible to save the records\")\n",
    "logger.info('Restoring records ...')\n",
    "logger.critical(\"Database corrupted !\")\n",
    "logger.info('End of program')\n",
    "\n",
    "egg()"
   ]
  },
  {
   "cell_type": "markdown",
   "metadata": {},
   "source": [
    "\n",
    "performance\n",
    "-----------\n",
    "- profiling : Only optimize the bottlenecks !\n",
    "  - timeit (for small snippets of code)"
   ]
  },
  {
   "cell_type": "code",
   "execution_count": 11,
   "metadata": {},
   "outputs": [
    {
     "name": "stdout",
     "output_type": "stream",
     "text": [
      "10.9 ns ± 0.0619 ns per loop (mean ± std. dev. of 7 runs, 100000000 loops each)\n",
      "10.6 ns ± 0.0826 ns per loop (mean ± std. dev. of 7 runs, 100000000 loops each)\n"
     ]
    }
   ],
   "source": [
    "%timeit 1+2\n",
    "%timeit 1*2\n"
   ]
  },
  {
   "cell_type": "markdown",
   "metadata": {},
   "source": [
    "  - cProfile (for real code)  \n",
    "   ```python3 -m cProfile -o profile.pstats script.py```  \n",
    "   ```gprof2dot -f pstats profile.pstats | dot -Tpng -o profile.png```"
   ]
  },
  {
   "cell_type": "code",
   "execution_count": 12,
   "metadata": {},
   "outputs": [
    {
     "name": "stdout",
     "output_type": "stream",
     "text": [
      "         7 function calls in 22.994 seconds\n",
      "\n",
      "   Ordered by: standard name\n",
      "\n",
      "   ncalls  tottime  percall  cumtime  percall filename:lineno(function)\n",
      "        1    0.002    0.002   22.954   22.954 <ipython-input-12-08b1ce35b4bd>:11(function1)\n",
      "        1   22.601   22.601   22.601   22.601 <ipython-input-12-08b1ce35b4bd>:5(function2)\n",
      "        1    0.040    0.040   22.994   22.994 <string>:1(<module>)\n",
      "        1    0.000    0.000   22.994   22.994 {built-in method builtins.exec}\n",
      "        1    0.284    0.284    0.284    0.284 {built-in method builtins.sorted}\n",
      "        1    0.000    0.000    0.000    0.000 {method 'disable' of '_lsprof.Profiler' objects}\n",
      "        1    0.068    0.068    0.068    0.068 {method 'randint' of 'mtrand.RandomState' objects}\n",
      "\n",
      "\n"
     ]
    }
   ],
   "source": [
    "import numpy as np\n",
    "import cProfile\n",
    "import re\n",
    "\n",
    "def function2(array):\n",
    "    for i in range(500):\n",
    "        array += 3\n",
    "        array = array*2\n",
    "    return array\n",
    "\n",
    "def function1():\n",
    "    array = np.random.randint(500000, size=5000000)\n",
    "    array = function2(array)\n",
    "    return sorted(array)\n",
    "\n",
    "cProfile.run('function1()')"
   ]
  },
  {
   "cell_type": "markdown",
   "metadata": {},
   "source": [
    "- in sequential\n",
    "    - small is beautifull (PEP 20)\n",
    "    - inline manually\n",
    "    - local is faster than global (and avoid dots)\n",
    "    - choose the right data structure / algorithm\n",
    "    - prefere numpy based array\n",
    "    - avoid loops (vectorization using slice)\n",
    "    - avoid copy of array\n",
    "    - changing size of an array\n",
    "    - use the out argument in numpy\n",
    "- compiler\n",
    "  - numexpr (only small expression)\n",
    "  - f2py\n",
    "    - included with numpy\n",
    "    - compilation must be done separately\n",
    "    - be carefull to the memory ordering\n",
    "  - cython\n",
    "  - numba"
   ]
  },
  {
   "cell_type": "code",
   "execution_count": 13,
   "metadata": {},
   "outputs": [
    {
     "name": "stdout",
     "output_type": "stream",
     "text": [
      "compilation OK\n"
     ]
    }
   ],
   "source": [
    "fsource = \"\"\"\n",
    "    module themodule\n",
    "    implicit none\n",
    "    contains\n",
    "    \n",
    "    subroutine fonction1(a,b,c,n)\n",
    "    implicit none\n",
    "    integer(kind=8), intent(in) :: n\n",
    "    double precision,intent(in) :: a(n)\n",
    "    double precision,intent(in) :: b(n)\n",
    "    logical,intent(out) :: c(n)\n",
    "\n",
    "    c = a*b-4.1*a > 2.5*b\n",
    "\n",
    "    end subroutine fonction1\n",
    "    \n",
    "    subroutine fonction2(a,b,c,n)\n",
    "    implicit none\n",
    "    integer(kind=8), intent(in) :: n\n",
    "    double precision,intent(in) :: a(n)\n",
    "    double precision,intent(in) :: b(n)\n",
    "    double precision,intent(out) :: c(n)\n",
    "\n",
    "    c = sin(a) + asinh(a/b)\n",
    "\n",
    "    end subroutine fonction2\n",
    "    \n",
    "    \n",
    "    subroutine convolve_fortran(f,g,vmax,wmax,smax,tmax,h,err)\n",
    "    implicit none\n",
    "    integer(kind=8),intent(in)  :: vmax,wmax,smax,tmax\n",
    "    integer(kind=8),intent(in)  :: f(vmax,wmax), g(smax,tmax)\n",
    "    integer(kind=8),intent(out) :: h(vmax,wmax)\n",
    "\n",
    "    integer(kind=8),intent(out) :: err\n",
    "    integer(kind=8) :: smid,tmid\n",
    "    integer(kind=8) :: value\n",
    "    integer(kind=8) :: x, y, s, t, v, w\n",
    "    \n",
    "    ! f is an image and is indexed by (v, w)\n",
    "    ! g is a filter kernel and is indexed by (s, t),\n",
    "    !   it needs odd dimensions\n",
    "    ! h is the output image and is indexed by (v, w),\n",
    "\n",
    "    err = 0\n",
    "    if (modulo(smax,2) /= 1 .or. modulo(tmax,2) /= 1) then\n",
    "        err = 1\n",
    "        return\n",
    "    endif\n",
    "        \n",
    "    ! smid and tmid are number of pixels between the center pixel\n",
    "    ! and the edge, ie for a 5x5 filter they will be 2.  \n",
    "    smid = smax / 2\n",
    "    tmid = tmax / 2\n",
    "    \n",
    "    h = 0\n",
    "    ! Do convolution\n",
    "    ! warning : memory layout is different in fortran\n",
    "    do y=tmid,wmax-tmid-1\n",
    "        do x=smid,vmax-smid-1\n",
    "            ! Calculate pixel value for h at (x,y). Sum one component\n",
    "            ! for each pixel (s, t) of the filter g.\n",
    "            \n",
    "            value = 0\n",
    "            do t=0,tmax - 1\n",
    "                do s=0,smax - 1\n",
    "                    v = x - smid + s\n",
    "                    w = y - tmid + t\n",
    "                    \n",
    "                    ! warning : array start at 1 in fortran\n",
    "                    value = value + g(s + 1, t + 1) * f(v+1, w+1)\n",
    "                enddo\n",
    "            enddo\n",
    "            ! warning : array start at 1 in fortran\n",
    "            h(x+1, y+1) = value\n",
    "        enddo\n",
    "    enddo\n",
    "    return\n",
    "    end subroutine convolve_fortran\n",
    "    end module themodule\n",
    "    \"\"\"\n",
    "\n",
    "with open(\"fortranModule.f90\",'w') as f:\n",
    "    for line in fsource:\n",
    "        f.write(line)\n",
    "\n",
    "import subprocess\n",
    "try:\n",
    "    data = subprocess.check_output([\"venv/bin/f2py\",\n",
    "                                    \"-c\", \"fortranModule.f90\",\n",
    "                                    \"-m\", \"monModuleFortran\",\n",
    "                                    \"--opt='-Ofast -march=native'\", \"--noarch\",\n",
    "#                                    \"--debug-capi\", \"--debug\",\n",
    "                                    \"-DF2PY_REPORT_ON_ARRAY_COPY=1\"\n",
    "                                   ]).decode('utf-8')\n",
    "except subprocess.CalledProcessError as e:\n",
    "    print(e.output.decode('utf-8'))\n",
    "else:\n",
    "    #print(data)\n",
    "    print(\"compilation OK\")   "
   ]
  },
  {
   "cell_type": "code",
   "execution_count": 14,
   "metadata": {},
   "outputs": [],
   "source": [
    "def fonction1(a,b):\n",
    "    return a*b-4.1*a > 2.5*b\n",
    "\n",
    "def fonction2(a,b):\n",
    "    return np.sin(a) + np.arcsinh(a/b)\n",
    "\n",
    "\n",
    "def convolve_python(f, g):\n",
    "    # f is an image and is indexed by (v, w)\n",
    "    # g is a filter kernel and is indexed by (s, t),\n",
    "    #   it needs odd dimensions\n",
    "    # h is the output image and is indexed by (x, y),\n",
    "\n",
    "    if g.shape[0] % 2 != 1 or g.shape[1] % 2 != 1:\n",
    "        raise ValueError(\"Only odd dimensions on filter supported\")\n",
    "        \n",
    "    # smid and tmid are number of pixels between the center pixel\n",
    "    # and the edge, ie for a 5x5 filter they will be 2.\n",
    "    vmax = f.shape[0]\n",
    "    wmax = f.shape[1]\n",
    "    smax = g.shape[0]\n",
    "    tmax = g.shape[1]\n",
    "    \n",
    "    smid = smax // 2\n",
    "    tmid = tmax // 2\n",
    "\n",
    "    # Allocate result image.\n",
    "    h = np.zeros_like(f)\n",
    "    \n",
    "    # Do convolution\n",
    "    for x in range(smid,vmax-smid):\n",
    "        for y in range(tmid,wmax-tmid):\n",
    "            # Calculate pixel value for h at (x,y). Sum one component\n",
    "            # for each pixel (s, t) of the filter g.\n",
    "            value = 0\n",
    "            for s in range(smax):\n",
    "                for t in range(tmax):\n",
    "                    v = x - smid + s\n",
    "                    w = y - tmid + t\n",
    "                    value += g[s, t] * f[v, w]\n",
    "            h[x, y] = value\n",
    "    return h"
   ]
  },
  {
   "cell_type": "code",
   "execution_count": 15,
   "metadata": {},
   "outputs": [],
   "source": [
    "%load_ext Cython"
   ]
  },
  {
   "cell_type": "code",
   "execution_count": 16,
   "metadata": {},
   "outputs": [],
   "source": [
    "%%cython\n",
    "import numpy as np\n",
    "cimport numpy as np\n",
    "cimport cython\n",
    "from libc.math cimport sin\n",
    "from libc.math cimport asinh\n",
    "\n",
    "@cython.boundscheck(False) # turn off bounds-checking for entire function\n",
    "@cython.wraparound(False)  # turn off negative index wrapping for entire function\n",
    "def cfonction1(np.ndarray[double, ndim=1] a, np.ndarray[double, ndim=1] b):\n",
    "    cdef long n = a.shape[0]\n",
    "    cdef long m = b.shape[0]\n",
    "    \n",
    "    if n != m :\n",
    "        raise ValueError(\"Arrays must have the same dimension\")\n",
    "        \n",
    "    cdef long[:] res = np.empty([n], dtype=long)\n",
    "    \n",
    "    cdef long i\n",
    "    for i in range(n):\n",
    "        res[i] = a[i]*b[i]-4.1*a[i] > 2.5*b[i]\n",
    "    return res\n",
    "\n",
    "@cython.boundscheck(False) # turn off bounds-checking for entire function\n",
    "@cython.wraparound(False)  # turn off negative index wrapping for entire function\n",
    "def cfonction2(np.ndarray[double, ndim=1] a, np.ndarray[double, ndim=1] b):\n",
    "    cdef long n = a.shape[0]\n",
    "    cdef long m = b.shape[0]\n",
    "    \n",
    "    if n != m :\n",
    "        raise ValueError(\"Arrays must have the same dimension\")\n",
    "        \n",
    "    cdef double[:] res = np.empty([n], dtype=np.double)\n",
    "    \n",
    "    cdef long i\n",
    "    for i in range(n):\n",
    "        res[i] = sin(a[i]) + asinh(a[i]/b[i])\n",
    "    return res\n",
    "\n",
    "\n",
    "@cython.boundscheck(False) # turn off bounds-checking for entire function\n",
    "@cython.wraparound(False)  # turn off negative index wrapping for entire function\n",
    "def convolve_cython(np.ndarray[long, ndim=2] f, np.ndarray[long, ndim=2] g):\n",
    "    # f is an image and is indexed by (v, w)\n",
    "    # g is a filter kernel and is indexed by (s, t),\n",
    "    #   it needs odd dimensions\n",
    "    # h is the output image and is indexed by (x, y),\n",
    "    if g.shape[0] % 2 != 1 or g.shape[1] % 2 != 1:\n",
    "        raise ValueError(\"Only odd dimensions on filter supported\")\n",
    "\n",
    "    # smid and tmid are number of pixels between the center pixel\n",
    "    # and the edge, ie for a 5x5 filter they will be 2.\n",
    "    \n",
    "    cdef long vmax = f.shape[0]\n",
    "    cdef long wmax = f.shape[1]\n",
    "    cdef long smax = g.shape[0]\n",
    "    cdef long tmax = g.shape[1]\n",
    "    cdef long smid = smax // 2\n",
    "    cdef long tmid = tmax // 2\n",
    "    \n",
    "    # Allocate result image.\n",
    "    cdef np.ndarray[long, ndim=2] h = np.zeros([vmax, wmax], dtype=long)\n",
    "\n",
    "    cdef long value\n",
    "    cdef long x, y, s, t, v, w\n",
    "\n",
    "    # Do convolution\n",
    "    for x in range(smid,vmax-smid):\n",
    "        for y in range(tmid,wmax-tmid):\n",
    "            # Calculate pixel value for h at (x,y). Sum one component\n",
    "            # for each pixel (s, t) of the filter g.\n",
    "            value = 0\n",
    "            for s in range(smax):\n",
    "                for t in range(tmax):\n",
    "                    v = x - smid + s\n",
    "                    w = y - tmid + t\n",
    "                    value += g[s, t] * f[v, w]\n",
    "            h[x, y] = value\n",
    "    return h"
   ]
  },
  {
   "cell_type": "code",
   "execution_count": 17,
   "metadata": {},
   "outputs": [],
   "source": [
    "from monModuleFortran import themodule\n",
    "\n",
    "def convolve_fortran(f,g):\n",
    "    h, err = themodule.convolve_fortran(f,g)\n",
    "    if err:\n",
    "        print(err)\n",
    "        raise ValueError(\"FORTRAN ERROR ! (Probably : Only odd dimensions on filter supported)\")\n",
    "    return h"
   ]
  },
  {
   "cell_type": "code",
   "execution_count": 18,
   "metadata": {},
   "outputs": [
    {
     "name": "stdout",
     "output_type": "stream",
     "text": [
      "compilation OK\n"
     ]
    }
   ],
   "source": [
    "import numba as nb\n",
    "\n",
    "\n",
    "@nb.jit(nopython=True, nogil=True, cache=False, parallel=True)\n",
    "def nb_fonction1(a, b):\n",
    "    return a*b-4.1*a > 2.5*b\n",
    "\n",
    "@nb.jit(nopython=True, nogil=True, cache=False, parallel=True)\n",
    "def nb_fonction2(a, b):\n",
    "    return np.sin(a) + np.arcsinh(a/b)\n",
    "\n",
    "@nb.stencil(standard_indexing=(\"g\",),neighborhood=((-4, 4),(-4, 4)))\n",
    "def convolve_kernel(f, g):\n",
    "\n",
    "    smax = g.shape[0]\n",
    "    tmax = g.shape[1]\n",
    "\n",
    "    smid = smax // 2\n",
    "    tmid = tmax // 2\n",
    "    \n",
    "    h = 0\n",
    "    for s in range(smax):\n",
    "        for t in range(tmax):\n",
    "            h += g[s, t] * f[s-smid, t-tmid]   \n",
    "    return h\n",
    "\n",
    "@nb.jit(nopython=True, nogil=True, cache=False, parallel=True)\n",
    "def convolve_numba(f, g):\n",
    "\n",
    "    if g.shape[0] % 2 != 1 or g.shape[1] % 2 != 1:\n",
    "        raise ValueError(\"Only odd dimensions on filter supported\")\n",
    "\n",
    "    return convolve_kernel(f,g)\n",
    "\n",
    "#apply it for compilation\n",
    "N = 10\n",
    "f = np.arange(N*N, dtype=np.int).reshape((N,N))\n",
    "g = np.arange(81, dtype=np.int).reshape((9, 9))\n",
    "d = convolve_numba(f, g)\n",
    "a = np.arange(1,5)\n",
    "b = np.arange(1,5)\n",
    "nb_fonction1(a, b)\n",
    "nb_fonction2(a, b)\n",
    "print(\"compilation OK\")"
   ]
  },
  {
   "cell_type": "code",
   "execution_count": 19,
   "metadata": {},
   "outputs": [],
   "source": [
    "import numpy as np\n",
    "import numexpr as ne\n",
    "from monModuleFortran import themodule"
   ]
  },
  {
   "cell_type": "code",
   "execution_count": 20,
   "metadata": {},
   "outputs": [
    {
     "name": "stdout",
     "output_type": "stream",
     "text": [
      "Easy cases\n",
      "With numpy\n",
      "19.2 ms ± 287 µs per loop (mean ± std. dev. of 7 runs, 100 loops each)\n",
      "77.4 ms ± 1.55 ms per loop (mean ± std. dev. of 7 runs, 10 loops each)\n",
      "With numexpr\n",
      "1.2 ms ± 109 µs per loop (mean ± std. dev. of 7 runs, 1000 loops each)\n",
      "13 ms ± 1.15 ms per loop (mean ± std. dev. of 7 runs, 100 loops each)\n",
      "With fortran\n",
      "1.16 ms ± 43.9 µs per loop (mean ± std. dev. of 7 runs, 1000 loops each)\n",
      "66.5 ms ± 3.12 ms per loop (mean ± std. dev. of 7 runs, 10 loops each)\n",
      "With cython\n",
      "1.71 ms ± 135 µs per loop (mean ± std. dev. of 7 runs, 100 loops each)\n",
      "66.3 ms ± 1.42 ms per loop (mean ± std. dev. of 7 runs, 10 loops each)\n",
      "With numba\n",
      "1.17 ms ± 214 µs per loop (mean ± std. dev. of 7 runs, 1 loop each)\n",
      "16.2 ms ± 3.64 ms per loop (mean ± std. dev. of 7 runs, 1 loop each)\n"
     ]
    }
   ],
   "source": [
    "print(\"Easy cases\")\n",
    "a = np.arange(1,1e6)   # Choose large arrays for better speedups\n",
    "b = np.arange(1,1e6)\n",
    "\n",
    "print(\"With numpy\")\n",
    "%timeit fonction1(a, b)\n",
    "%timeit fonction2(a, b)\n",
    "\n",
    "print(\"With numexpr\")\n",
    "%timeit ne.evaluate('a*b-4.1*a > 2.5*b')  \n",
    "%timeit ne.evaluate(\"sin(a) + arcsinh(a/b)\") # numexpr is multithreaded\n",
    "\n",
    "print(\"With fortran\")\n",
    "%timeit  c = themodule.fonction1(a, b)\n",
    "%timeit  d = themodule.fonction2(a, b)\n",
    "\n",
    "print(\"With cython\")\n",
    "%timeit  cfonction1(a, b)\n",
    "%timeit  cfonction2(a, b)\n",
    "\n",
    "print(\"With numba\")\n",
    "%timeit  nb_fonction1(a, b)\n",
    "%timeit  nb_fonction2(a, b)"
   ]
  },
  {
   "cell_type": "code",
   "execution_count": 21,
   "metadata": {},
   "outputs": [
    {
     "name": "stdout",
     "output_type": "stream",
     "text": [
      "Convolution\n",
      "With numpy\n",
      "1.26 s ± 23.7 ms per loop (mean ± std. dev. of 7 runs, 1 loop each)\n",
      "With fortran\n",
      "3.58 ms ± 150 µs per loop (mean ± std. dev. of 7 runs, 100 loops each)\n",
      "True\n",
      "With cython\n",
      "2.1 ms ± 30.7 µs per loop (mean ± std. dev. of 7 runs, 100 loops each)\n",
      "True\n",
      "With numba\n",
      "1.5 ms ± 74 µs per loop (mean ± std. dev. of 7 runs, 1000 loops each)\n",
      "True\n"
     ]
    }
   ],
   "source": [
    "import numpy as np\n",
    "print(\"Convolution\")\n",
    "N = 200\n",
    "f = np.arange(N*N, dtype=np.int).reshape((N,N))\n",
    "g = np.arange(81, dtype=np.int).reshape((9, 9))\n",
    "ft = np.asfortranarray(f)                   # memory ordering for fortran\n",
    "gt = np.asfortranarray(g)\n",
    "\n",
    "print(\"With numpy\")\n",
    "%timeit convolve_python(f, g)\n",
    "a = convolve_python(f, g)\n",
    "\n",
    "print(\"With fortran\")\n",
    "%timeit convolve_fortran(ft, gt)\n",
    "b = convolve_fortran(ft, gt)\n",
    "print(np.allclose(a,b))\n",
    "\n",
    "print(\"With cython\")\n",
    "%timeit convolve_cython(f, g)\n",
    "c = convolve_cython(f, g)\n",
    "print(np.allclose(a,c))\n",
    "\n",
    "print(\"With numba\")\n",
    "%timeit convolve_numba(f, g)\n",
    "d = convolve_numba(f, g)\n",
    "print(np.allclose(a,d))"
   ]
  },
  {
   "cell_type": "code",
   "execution_count": 22,
   "metadata": {},
   "outputs": [
    {
     "name": "stdout",
     "output_type": "stream",
     "text": [
      "Convolution2\n",
      "With fortran\n",
      "400 ms ± 17.2 ms per loop (mean ± std. dev. of 7 runs, 1 loop each)\n",
      "With cython\n",
      "240 ms ± 17.8 ms per loop (mean ± std. dev. of 7 runs, 1 loop each)\n",
      "True\n",
      "With numba\n",
      "103 ms ± 6.4 ms per loop (mean ± std. dev. of 7 runs, 10 loops each)\n",
      "True\n"
     ]
    }
   ],
   "source": [
    "print(\"Convolution2\")\n",
    "N = 2000\n",
    "f = np.arange(N*N, dtype=np.int).reshape((N,N))\n",
    "g = np.arange(81, dtype=np.int).reshape((9, 9))\n",
    "ft = np.asfortranarray(f)                   # memory ordering for fortran\n",
    "gt = np.asfortranarray(g)\n",
    "\n",
    "print(\"With fortran\")\n",
    "%timeit convolve_fortran(ft, gt)\n",
    "a = convolve_fortran(ft, gt)\n",
    "#print(a)\n",
    "\n",
    "print(\"With cython\")\n",
    "%timeit convolve_cython(f, g)\n",
    "b = convolve_cython(f, g)\n",
    "print(np.allclose(a,b))\n",
    "#print(b)\n",
    "\n",
    "print(\"With numba\")\n",
    "%timeit convolve_numba(f, g)\n",
    "c = convolve_numba(f, g)\n",
    "print(np.allclose(a,c))"
   ]
  },
  {
   "cell_type": "markdown",
   "metadata": {},
   "source": [
    "- parallelism\n",
    "  - cuda"
   ]
  },
  {
   "cell_type": "code",
   "execution_count": 23,
   "metadata": {},
   "outputs": [],
   "source": [
    "from string import Template\n",
    "\n",
    "cuda_src_template = Template(\"\"\"\n",
    "// Cuda splitting\n",
    "#define MTB ${max_threads_per_block}\n",
    "#define MBP ${max_blocks_per_grid}\n",
    "\n",
    "// Array size\n",
    "#define fx ${fx}\n",
    "#define fy ${fy}\n",
    "#define gx ${gx}\n",
    "#define gy ${gy}\n",
    "\n",
    "// Macro for converting subscripts to linear index:\n",
    "#define f_INDEX(i, j) (i)*(fy)+(j)\n",
    "\n",
    "// Macro for converting subscripts to linear index:\n",
    "#define g_INDEX(i, j) (i)*(gy)+(j)\n",
    "\n",
    "__global__ void convolve_cuda(long *f, long *g, long *h) {\n",
    "\n",
    "    unsigned int idx = blockIdx.y*MTB*MBP + blockIdx.x*MTB+threadIdx.x;\n",
    "\n",
    "    // Convert the linear index to subscripts:\n",
    "    unsigned int i = idx/fy;\n",
    "    unsigned int j = idx%fy;\n",
    "\n",
    "    long smax = gx;\n",
    "    long tmax = gy;\n",
    "\n",
    "    long smid = smax / 2;\n",
    "    long tmid = tmax / 2;\n",
    "\n",
    "    if (smid <= i && i < fx-smid) {\n",
    "    if (tmid <= j && j < fy-tmid) {\n",
    "\n",
    "        h[f_INDEX(i,j)] = 0.;\n",
    "        \n",
    "        for (long s=0;s<smax;s++)\n",
    "            for (long t=0;t<tmax;t++)\n",
    "                h[f_INDEX(i,j)] += g[g_INDEX(s, t)] * f[f_INDEX(i+s-smid, j+t-tmid)];\n",
    "    \n",
    "    }\n",
    "    }\n",
    "}\n",
    "\"\"\")"
   ]
  },
  {
   "cell_type": "code",
   "execution_count": 24,
   "metadata": {},
   "outputs": [],
   "source": [
    "import skcuda.misc as misc\n",
    "import pycuda.autoinit\n",
    "device = pycuda.autoinit.device\n",
    "max_threads_per_block, _, max_grid_dim = misc.get_dev_attrs(device)\n",
    "max_blocks_per_grid = max(max_grid_dim)"
   ]
  },
  {
   "cell_type": "code",
   "execution_count": 25,
   "metadata": {},
   "outputs": [
    {
     "name": "stdout",
     "output_type": "stream",
     "text": [
      "Compilation OK\n"
     ]
    }
   ],
   "source": [
    "from functools import partial\n",
    "from pycuda.compiler import SourceModule\n",
    "\n",
    "cuda_src = cuda_src_template.substitute(max_threads_per_block=max_threads_per_block,\n",
    "                                        max_blocks_per_grid=max_blocks_per_grid,\n",
    "                                        fx=f.shape[0], fy=f.shape[1],\n",
    "                                        gx=g.shape[0], gy=g.shape[1]\n",
    "                                       )\n",
    "cuda_module = SourceModule(cuda_src, options= [\"-O3\", \"-use_fast_math\", \"-default-stream=per-thread\"])\n",
    "print(\"Compilation OK\")\n",
    "\n",
    "__convolve_cuda = cuda_module.get_function('convolve_cuda')\n",
    "\n",
    "block_dim, grid_dim = misc.select_block_grid_sizes(device, f.shape)\n",
    "_convolve_cuda = partial(__convolve_cuda,\n",
    "                         block=block_dim,\n",
    "                         grid=grid_dim)"
   ]
  },
  {
   "cell_type": "code",
   "execution_count": 26,
   "metadata": {},
   "outputs": [],
   "source": [
    "import pycuda.gpuarray as gpuarray\n",
    "\n",
    "f_gpu = gpuarray.to_gpu(f)\n",
    "g_gpu = gpuarray.to_gpu(g)\n",
    "\n",
    "def convolve_cuda(f_gpu,g_gpu):\n",
    "    h_gpu = gpuarray.zeros_like(f_gpu)\n",
    "    _convolve_cuda(f_gpu, g_gpu, h_gpu)\n",
    "    return h_gpu.get()"
   ]
  },
  {
   "cell_type": "code",
   "execution_count": 27,
   "metadata": {},
   "outputs": [
    {
     "name": "stdout",
     "output_type": "stream",
     "text": [
      "37 ms ± 907 µs per loop (mean ± std. dev. of 7 runs, 10 loops each)\n",
      "True\n"
     ]
    }
   ],
   "source": [
    "%timeit convolve_cuda(f_gpu, g_gpu)\n",
    "d = convolve_cuda(f_gpu, g_gpu)\n",
    "print(np.allclose(a,d))"
   ]
  },
  {
   "cell_type": "markdown",
   "metadata": {},
   "source": [
    "- asyncio\n",
    "    - not a real parallelism\n",
    "    - effective for io-bound tasks (web)\n",
    "    - not very interesting here\n",
    "- multithreading\n",
    "    - more parallelism (GIL)\n",
    "    - shared memory\n",
    "- multiprocessing\n",
    "    - real parallelism\n",
    "    - limited to one computer\n",
    "    - two main implementation\n",
    "        - multiprocessing (stdlib) which is flexible\n",
    "        - joblib which is relatively easy to use\n",
    "- mpi (mpi4py)\n",
    "    - real parallelism\n",
    "    - unlimited\n",
    "    - relatively complex to use (same as in C, fortran, ...)"
   ]
  },
  {
   "cell_type": "code",
   "execution_count": 28,
   "metadata": {},
   "outputs": [],
   "source": [
    "import time\n",
    "import numpy as np\n",
    "def heavy_fonction(i):\n",
    "    t = np.random.rand()/10\n",
    "    time.sleep(t)\n",
    "    return i,t\n",
    "    "
   ]
  },
  {
   "cell_type": "code",
   "execution_count": 29,
   "metadata": {},
   "outputs": [
    {
     "name": "stdout",
     "output_type": "stream",
     "text": [
      "13.27787470817566\n",
      "103.36939916904919\n"
     ]
    }
   ],
   "source": [
    "from math import sqrt\n",
    "from joblib import Parallel, delayed\n",
    "tic = time.time()\n",
    "res = Parallel(n_jobs=-1)(delayed(heavy_fonction)(i) \\\n",
    "                            for i in range(2000))\n",
    "tac = time.time()\n",
    "index, times = np.asarray(res).T\n",
    "print(tac - tic)\n",
    "print(times.sum())"
   ]
  },
  {
   "cell_type": "code",
   "execution_count": 30,
   "metadata": {},
   "outputs": [
    {
     "name": "stdout",
     "output_type": "stream",
     "text": [
      "14.140785932540894\n",
      "102.26720000471589\n"
     ]
    }
   ],
   "source": [
    "from threading import Thread, RLock\n",
    "\n",
    "N = 2000\n",
    "N_t = 10\n",
    "input_list = np.arange(N,dtype=int)\n",
    "current = 0\n",
    "nprocs = 8\n",
    "output_list = np.empty(N)\n",
    "\n",
    "verrou = RLock()\n",
    "\n",
    "class ThreadJob(Thread):\n",
    "    def run(self):\n",
    "        global current\n",
    "        \"\"\"Code à exécuter pendant l'exécution du thread.\"\"\"\n",
    "        while current < N:\n",
    "            \n",
    "            with verrou:\n",
    "                position = current\n",
    "                current += N_t\n",
    "            \n",
    "            fin = min(position+N_t+1,N)\n",
    "            \n",
    "            for i in range(position, fin):\n",
    "                j,t = heavy_fonction(input_list[i])\n",
    "                output_list[j] = t\n",
    "\n",
    "# Création des threads\n",
    "threads = [ThreadJob() for i in range(nprocs)]\n",
    "\n",
    "tic = time.time()\n",
    "# Lancement des threads\n",
    "for thread in threads:\n",
    "    thread.start()\n",
    "    \n",
    "# Attend que les threads se terminent\n",
    "for thread in threads:\n",
    "    thread.join()\n",
    "tac = time.time()\n",
    "\n",
    "\n",
    "print(tac - tic)\n",
    "print(output_list.sum())"
   ]
  },
  {
   "cell_type": "code",
   "execution_count": 31,
   "metadata": {},
   "outputs": [
    {
     "name": "stdout",
     "output_type": "stream",
     "text": [
      "12.771186351776123\n",
      "100.49891005929868\n"
     ]
    }
   ],
   "source": [
    "import multiprocessing as mp\n",
    "from queue import Empty\n",
    "\n",
    "def process_job(q,r):\n",
    "    while True:\n",
    "        try:\n",
    "            i = q.get(block=False)\n",
    "            r.put(heavy_fonction(i))\n",
    "        except Empty:\n",
    "            if q.empty():\n",
    "                if q.qsize() == 0:\n",
    "                    break\n",
    "\n",
    "\n",
    "# Define an output queue\n",
    "r = mp.Queue()\n",
    "\n",
    "# Define an input queue\n",
    "q = mp.Queue()\n",
    "\n",
    "for i in range(2000):\n",
    "    q.put(i)\n",
    "\n",
    "nprocs = 8\n",
    "# Setup a list of processes that we want to run\n",
    "processes = [mp.Process(target=process_job, args=(q, r)) for i in range(nprocs)]\n",
    "\n",
    "tic = time.time()\n",
    "\n",
    "# Run processes\n",
    "for p in processes:\n",
    "    p.start()\n",
    "    \n",
    "# Get process results from the output queue\n",
    "results = np.empty(2000)\n",
    "for i in range(2000):\n",
    "    j,t = r.get()\n",
    "    results[j] = t\n",
    "    \n",
    "tac = time.time()\n",
    "\n",
    "# Exit the completed processes\n",
    "for p in processes:\n",
    "    p.join()\n",
    "    \n",
    "print(tac - tic)\n",
    "print(results.sum())"
   ]
  }
 ],
 "metadata": {
  "kernelspec": {
   "display_name": "Python 3",
   "language": "python",
   "name": "python3"
  },
  "language_info": {
   "codemirror_mode": {
    "name": "ipython",
    "version": 3
   },
   "file_extension": ".py",
   "mimetype": "text/x-python",
   "name": "python",
   "nbconvert_exporter": "python",
   "pygments_lexer": "ipython3",
   "version": "3.5.2"
  }
 },
 "nbformat": 4,
 "nbformat_minor": 1
}
